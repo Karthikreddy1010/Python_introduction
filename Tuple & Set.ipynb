{
 "cells": [
  {
   "cell_type": "markdown",
   "id": "0ef16844",
   "metadata": {},
   "source": [
    "### Tuple is used to store multiple values in a single variable\n",
    "\n",
    "- Tuple is a Immutable - we cannot modify values or elements\n",
    "\n",
    "- Tuple - In tuple the values are in ordered\n",
    "\n",
    "- Each element in a tuple has a specifc order that will never change because tuples are ordered.\n",
    "- Tuple is defined by ()\n",
    "\n",
    "- Tuple has duplicate values"
   ]
  },
  {
   "cell_type": "code",
   "execution_count": 1,
   "id": "6cdb97d5",
   "metadata": {},
   "outputs": [
    {
     "name": "stdout",
     "output_type": "stream",
     "text": [
      "(1, 2, 3, 4)\n",
      "<class 'tuple'>\n"
     ]
    }
   ],
   "source": [
    "int_tup=(1,2,3,4)\n",
    "print(int_tup)\n",
    "print(type(int_tup))"
   ]
  },
  {
   "cell_type": "code",
   "execution_count": 2,
   "id": "036097fc",
   "metadata": {},
   "outputs": [
    {
     "name": "stdout",
     "output_type": "stream",
     "text": [
      "(2.3, 4.5, 5.6)\n",
      "<class 'tuple'>\n"
     ]
    }
   ],
   "source": [
    "float_tup=(2.3,4.5,5.6)\n",
    "print(float_tup)\n",
    "print(type(float_tup))"
   ]
  },
  {
   "cell_type": "code",
   "execution_count": 3,
   "id": "1d698943",
   "metadata": {},
   "outputs": [
    {
     "name": "stdout",
     "output_type": "stream",
     "text": [
      "('map', 'a', 'b')\n",
      "<class 'tuple'>\n"
     ]
    }
   ],
   "source": [
    "strin_tup=(\"map\",\"a\",\"b\")\n",
    "print(strin_tup)\n",
    "print(type(strin_tup))"
   ]
  },
  {
   "cell_type": "code",
   "execution_count": 4,
   "id": "516f88bb",
   "metadata": {},
   "outputs": [
    {
     "name": "stdout",
     "output_type": "stream",
     "text": [
      "(1, 'map', 4.5)\n"
     ]
    }
   ],
   "source": [
    "mixed_tup=(1,\"map\",4.5)\n",
    "print(mixed_tup)"
   ]
  },
  {
   "cell_type": "code",
   "execution_count": 1,
   "id": "70718cc1",
   "metadata": {},
   "outputs": [
    {
     "name": "stdout",
     "output_type": "stream",
     "text": [
      "(1, 45, 67, 90)\n"
     ]
    },
    {
     "ename": "TypeError",
     "evalue": "'tuple' object does not support item assignment",
     "output_type": "error",
     "traceback": [
      "\u001b[1;31m---------------------------------------------------------------------------\u001b[0m",
      "\u001b[1;31mTypeError\u001b[0m                                 Traceback (most recent call last)",
      "Cell \u001b[1;32mIn[1], line 3\u001b[0m\n\u001b[0;32m      1\u001b[0m tup\u001b[38;5;241m=\u001b[39m(\u001b[38;5;241m1\u001b[39m,\u001b[38;5;241m45\u001b[39m,\u001b[38;5;241m67\u001b[39m,\u001b[38;5;241m90\u001b[39m)\n\u001b[0;32m      2\u001b[0m \u001b[38;5;28mprint\u001b[39m(tup)\n\u001b[1;32m----> 3\u001b[0m tup[\u001b[38;5;241m1\u001b[39m]\u001b[38;5;241m=\u001b[39m\u001b[38;5;241m50\u001b[39m\n\u001b[0;32m      4\u001b[0m \u001b[38;5;28mprint\u001b[39m(tup)\n",
      "\u001b[1;31mTypeError\u001b[0m: 'tuple' object does not support item assignment"
     ]
    }
   ],
   "source": [
    "tup=(1,45,67,90)\n",
    "print(tup)\n",
    "tup[1]=50\n",
    "print(tup)"
   ]
  },
  {
   "cell_type": "code",
   "execution_count": 2,
   "id": "b5c5b4e1",
   "metadata": {},
   "outputs": [
    {
     "name": "stdout",
     "output_type": "stream",
     "text": [
      "(23, 45, 67, 89, 99, 234, 5, 7)\n"
     ]
    }
   ],
   "source": [
    "tup1=(23,45,67,89)\n",
    "tup2=(99,234,5,7)\n",
    "print(tup1+tup2)"
   ]
  },
  {
   "cell_type": "code",
   "execution_count": 3,
   "id": "04b8c1d9",
   "metadata": {},
   "outputs": [
    {
     "name": "stdout",
     "output_type": "stream",
     "text": [
      "(23, 45, 67, 89, 23, 45, 67, 89)\n"
     ]
    }
   ],
   "source": [
    "print(tup1*2)"
   ]
  },
  {
   "cell_type": "code",
   "execution_count": 4,
   "id": "94a1acfa",
   "metadata": {},
   "outputs": [
    {
     "name": "stdout",
     "output_type": "stream",
     "text": [
      "67\n"
     ]
    }
   ],
   "source": [
    "print(tup1[2])"
   ]
  },
  {
   "cell_type": "code",
   "execution_count": 6,
   "id": "442e5398",
   "metadata": {},
   "outputs": [
    {
     "name": "stdout",
     "output_type": "stream",
     "text": [
      "(3, 4, 5, 6)\n",
      "(7, 8, 9, 10, 12, 13)\n"
     ]
    }
   ],
   "source": [
    "tup3=(1,2,3,4,5,6,7,8,9,10,12,13,14,15,4)\n",
    "print(tup3[2:6])\n",
    "print(tup3[-8:-2])"
   ]
  },
  {
   "cell_type": "code",
   "execution_count": 9,
   "id": "ef43c03f",
   "metadata": {},
   "outputs": [
    {
     "name": "stdout",
     "output_type": "stream",
     "text": [
      "4\n"
     ]
    }
   ],
   "source": [
    "tup4=(1,2,2,3,2,2)\n",
    "print(tup4.count(2))\n"
   ]
  },
  {
   "cell_type": "code",
   "execution_count": 11,
   "id": "681cdd79",
   "metadata": {},
   "outputs": [
    {
     "name": "stdout",
     "output_type": "stream",
     "text": [
      "1\n"
     ]
    }
   ],
   "source": [
    "tup5=(1,2,3,4,5,6,7,8)\n",
    "print(tup5.index(2))"
   ]
  },
  {
   "cell_type": "markdown",
   "id": "825d8e88",
   "metadata": {},
   "source": [
    "### Set - set is a collection of unique elements\n",
    "- set is a defined by {}\n",
    "\n",
    "- set is a IMmutable - we cannot modify elements\n",
    "\n",
    "- set is a unordered"
   ]
  },
  {
   "cell_type": "code",
   "execution_count": 14,
   "id": "52ce2cfd",
   "metadata": {},
   "outputs": [
    {
     "name": "stdout",
     "output_type": "stream",
     "text": [
      "{1, 2, 3, 4, 5, 6, 7}\n"
     ]
    }
   ],
   "source": [
    "set1={1,2,3,4,5,6,7}\n",
    "print(set1)"
   ]
  },
  {
   "cell_type": "code",
   "execution_count": 18,
   "id": "fe69f12e",
   "metadata": {},
   "outputs": [
    {
     "ename": "TypeError",
     "evalue": "'set' object is not subscriptable",
     "output_type": "error",
     "traceback": [
      "\u001b[1;31m---------------------------------------------------------------------------\u001b[0m",
      "\u001b[1;31mTypeError\u001b[0m                                 Traceback (most recent call last)",
      "Cell \u001b[1;32mIn[18], line 3\u001b[0m\n\u001b[0;32m      1\u001b[0m \u001b[38;5;66;03m# we cannot access the set but by using convert into list we can access\u001b[39;00m\n\u001b[1;32m----> 3\u001b[0m \u001b[38;5;28mprint\u001b[39m(set1[\u001b[38;5;241m0\u001b[39m])\n",
      "\u001b[1;31mTypeError\u001b[0m: 'set' object is not subscriptable"
     ]
    }
   ],
   "source": [
    "# we cannot access the set but by using convert into list we can access\n",
    "\n",
    "print(set1[0])"
   ]
  },
  {
   "cell_type": "code",
   "execution_count": 17,
   "id": "28614111",
   "metadata": {},
   "outputs": [
    {
     "name": "stdout",
     "output_type": "stream",
     "text": [
      "1\n"
     ]
    }
   ],
   "source": [
    "print(list(set1)[0])"
   ]
  },
  {
   "cell_type": "code",
   "execution_count": 20,
   "id": "ac346fa0",
   "metadata": {},
   "outputs": [
    {
     "name": "stdout",
     "output_type": "stream",
     "text": [
      "[3, 4, 5]\n"
     ]
    }
   ],
   "source": [
    "print(list(set1)[2:5])"
   ]
  },
  {
   "cell_type": "markdown",
   "id": "4b1a6552",
   "metadata": {},
   "source": [
    "## Frozensets are tuple, set"
   ]
  },
  {
   "cell_type": "code",
   "execution_count": 21,
   "id": "c2a0942d",
   "metadata": {},
   "outputs": [
    {
     "name": "stdout",
     "output_type": "stream",
     "text": [
      "1\n",
      "2\n",
      "3\n",
      "4\n",
      "5\n",
      "6\n",
      "7\n"
     ]
    }
   ],
   "source": [
    "for i in set1:\n",
    "    print(i)"
   ]
  },
  {
   "cell_type": "code",
   "execution_count": 25,
   "id": "853b73b2",
   "metadata": {},
   "outputs": [
    {
     "name": "stdout",
     "output_type": "stream",
     "text": [
      "{1, 2, 3, 'Cherry', 'Apple'}\n"
     ]
    }
   ],
   "source": [
    "# Add new items into sets\n",
    "\n",
    "set2={1,2,3,\"Apple\"}\n",
    "set2.add(\"Cherry\")\n",
    "print(set2)"
   ]
  },
  {
   "cell_type": "code",
   "execution_count": 27,
   "id": "58ad07b1",
   "metadata": {},
   "outputs": [
    {
     "name": "stdout",
     "output_type": "stream",
     "text": [
      "{2, 3, 'Cherry', 'Apple'}\n"
     ]
    }
   ],
   "source": [
    "# remove\n",
    "set2.remove(1)\n",
    "print(set2)"
   ]
  },
  {
   "cell_type": "code",
   "execution_count": 28,
   "id": "e86fc6ae",
   "metadata": {},
   "outputs": [
    {
     "name": "stdout",
     "output_type": "stream",
     "text": [
      "{2, 'Cherry', 'Apple'}\n"
     ]
    }
   ],
   "source": [
    "# discard\n",
    "set2.discard(3)\n",
    "print(set2)"
   ]
  },
  {
   "cell_type": "code",
   "execution_count": 29,
   "id": "f393b53a",
   "metadata": {},
   "outputs": [
    {
     "name": "stdout",
     "output_type": "stream",
     "text": [
      "{2, 3, 'Valut', 6, 'BOx', 'Cherry', 'Apple'}\n"
     ]
    }
   ],
   "source": [
    "# update\n",
    "\n",
    "set3={\"Valut\",3,6,\"BOx\"}\n",
    "set2.update(set3)\n",
    "print(set2)"
   ]
  },
  {
   "cell_type": "code",
   "execution_count": 33,
   "id": "9139b945",
   "metadata": {},
   "outputs": [
    {
     "name": "stdout",
     "output_type": "stream",
     "text": [
      "{1, 2, 3, 4, 5, 6, 7, 8, 9}\n"
     ]
    }
   ],
   "source": [
    "# Union\n",
    "set4={1,2,3,4,5,6}\n",
    "set5={6,7,4,8,9,2,1}\n",
    "print(set4 | set5)"
   ]
  },
  {
   "cell_type": "code",
   "execution_count": 34,
   "id": "250ebfd6",
   "metadata": {},
   "outputs": [
    {
     "name": "stdout",
     "output_type": "stream",
     "text": [
      "{1, 2, 3, 4, 5, 6, 7, 8, 9}\n"
     ]
    }
   ],
   "source": [
    "print(set4.union(set5))"
   ]
  },
  {
   "cell_type": "code",
   "execution_count": 35,
   "id": "ef440146",
   "metadata": {},
   "outputs": [
    {
     "name": "stdout",
     "output_type": "stream",
     "text": [
      "{1, 2, 4, 6}\n"
     ]
    }
   ],
   "source": [
    "# Intersection\n",
    "print(set4 & set5)"
   ]
  },
  {
   "cell_type": "code",
   "execution_count": 36,
   "id": "b3a047fc",
   "metadata": {},
   "outputs": [
    {
     "name": "stdout",
     "output_type": "stream",
     "text": [
      "{1, 2, 4, 6}\n"
     ]
    }
   ],
   "source": [
    "print(set4.intersection(set5))"
   ]
  },
  {
   "cell_type": "code",
   "execution_count": 37,
   "id": "18f1eadd",
   "metadata": {},
   "outputs": [
    {
     "name": "stdout",
     "output_type": "stream",
     "text": [
      "{3, 5}\n",
      "{8, 9, 7}\n"
     ]
    }
   ],
   "source": [
    "# difference\n",
    "\n",
    "# set4-set5\n",
    "\n",
    "print(set4-set5)\n",
    "print(set5-set4)"
   ]
  },
  {
   "cell_type": "code",
   "execution_count": 38,
   "id": "13a5b42d",
   "metadata": {},
   "outputs": [
    {
     "name": "stdout",
     "output_type": "stream",
     "text": [
      "{3, 5}\n"
     ]
    }
   ],
   "source": [
    "print(set4.difference(set5))"
   ]
  },
  {
   "cell_type": "code",
   "execution_count": 40,
   "id": "f7b11746",
   "metadata": {},
   "outputs": [
    {
     "name": "stdout",
     "output_type": "stream",
     "text": [
      "{3, 5, 7, 8, 9}\n",
      "{3, 5, 7, 8, 9}\n"
     ]
    }
   ],
   "source": [
    "# symmetric difference\n",
    "print(set4 ^ set5)\n",
    "\n",
    "print(set5 ^ set4)"
   ]
  },
  {
   "cell_type": "code",
   "execution_count": 43,
   "id": "7581b32f",
   "metadata": {},
   "outputs": [
    {
     "data": {
      "text/plain": [
       "{1, 2, 4, 6, 7, 8, 9}"
      ]
     },
     "execution_count": 43,
     "metadata": {},
     "output_type": "execute_result"
    }
   ],
   "source": [
    "set6=set5.copy()\n",
    "set6"
   ]
  },
  {
   "cell_type": "code",
   "execution_count": 48,
   "id": "ce25a5c1",
   "metadata": {},
   "outputs": [
    {
     "ename": "SyntaxError",
     "evalue": "invalid syntax (1409138916.py, line 4)",
     "output_type": "error",
     "traceback": [
      "\u001b[1;36m  Cell \u001b[1;32mIn[48], line 4\u001b[1;36m\u001b[0m\n\u001b[1;33m    print(set7 &= set8\u001b[0m\n\u001b[1;37m               ^\u001b[0m\n\u001b[1;31mSyntaxError\u001b[0m\u001b[1;31m:\u001b[0m invalid syntax\n"
     ]
    }
   ],
   "source": [
    "set7={1,2,3,4,5,6,7,8,9}\n",
    "set8={2,6,9,10,11}\n",
    "\n",
    "print(set7 &= set8"
   ]
  },
  {
   "cell_type": "code",
   "execution_count": null,
   "id": "bb4954dd",
   "metadata": {},
   "outputs": [],
   "source": []
  }
 ],
 "metadata": {
  "kernelspec": {
   "display_name": "Python 3 (ipykernel)",
   "language": "python",
   "name": "python3"
  },
  "language_info": {
   "codemirror_mode": {
    "name": "ipython",
    "version": 3
   },
   "file_extension": ".py",
   "mimetype": "text/x-python",
   "name": "python",
   "nbconvert_exporter": "python",
   "pygments_lexer": "ipython3",
   "version": "3.11.7"
  }
 },
 "nbformat": 4,
 "nbformat_minor": 5
}
