{
 "cells": [
  {
   "cell_type": "markdown",
   "id": "aa4727b1",
   "metadata": {},
   "source": [
    "### What is python?\n",
    "- Python is an interpreted programming language. \n",
    "- Python is a highly portable programming language. \n",
    "- Python is an object-oriented programming language.\n"
   ]
  },
  {
   "cell_type": "markdown",
   "id": "15351679",
   "metadata": {},
   "source": [
    "### History of python?\n",
    "- The Python programming language was created by Guido Von Rossum in 1991 and started with a previous language called ABC. This language can be characterized by a series of adjectives:\n",
    "- Interpreted\n",
    "-  Portable\n",
    "- Object-oriented\n",
    "- Interactive\n",
    "- Interfaced\n",
    "- Open source\n",
    "- Easy to understand and use\n",
    "- Maniny python has three versions\n",
    "- Python 1.4 - 25 october 1996\n",
    "- Python 1.5 - 17 FEB 1998\n",
    "- Python 2.1 - 15 Apr 2001\n",
    "- Python 2.3 - 29 July 2003\n",
    "- Python 2.5 - 19 Sept 2006\n",
    "- Python 3.0 - 3 Dec 2008\n",
    "- Guido Von Rossum renamed the ABC language by its Python name. His favorite show is Python Circus, so he renamed it Python."
   ]
  },
  {
   "cell_type": "markdown",
   "id": "cd0866b0",
   "metadata": {},
   "source": [
    "### Why we need to use Python?\n",
    "- It is an open-source library.\n",
    "- The Python programming language is easy to understand and a human-readable language.\n",
    "- Python will support more than 1 lakh of libraries, so we can use it in a larger number of applications.\n",
    "- In Python, every day there will be new updates of packages or libraries so we can improve applications or projects at an advanced level.\n"
   ]
  },
  {
   "cell_type": "markdown",
   "id": "4fb144e0",
   "metadata": {},
   "source": [
    "### Applications of python?\n",
    "- Python will support for so many Applications mainly\n",
    "- 1. Data Science and Data Analysis: In data science, Python plays a major role because, from collecting the data onwards to model deployment, we use Python for cleaning the data or model building.\n",
    "\n",
    "- 2. Natural Language Processing: In NLP Python, it also plays a crucial role in text processing like tokenization, lemmatization, stemming, removing stop words, and converting text into vectors. Python will support NLP libraries like Spacy, NLTK, and textblob.\n",
    "\n",
    "- 3. Machine Learning and Deep Learning: In ML and DL, Python plays a crucial role from collecting the data onwards. It will help image processing and reduction of columns or rows, feature engineering. It will support libraries like Sklearn, TensorFlow, and Keras.\n",
    "\n",
    "- 1. Financial: In the financial sector there will be frauds or money laundering, so by using Python language we can detect the fraud and money laundering.\n",
    "\n",
    "- 2.Ecommerece: In Ecommerece, the products will be recommended on Instagram or on any social media platform by the user's previous activity. Python and ML algorithms will take on the role of recommending the products to the user. Mainly, it will help to increase the sales.\n",
    "\n"
   ]
  },
  {
   "cell_type": "markdown",
   "id": "ea2d7357",
   "metadata": {},
   "source": [
    "### Keywords\n",
    "- Keywords are reserve words that have a special meaning and functionality.\n",
    "- In python there are 35 keywords in latest version.\n",
    "- We cannot use keywords for variables.\n",
    "- By using keywords we can built logics and can write programs"
   ]
  },
  {
   "cell_type": "code",
   "execution_count": 9,
   "id": "fb5ebb2b",
   "metadata": {},
   "outputs": [
    {
     "name": "stdout",
     "output_type": "stream",
     "text": [
      "Python 3.11.7\n"
     ]
    }
   ],
   "source": [
    "## Version of python\n",
    "!python --version"
   ]
  },
  {
   "cell_type": "code",
   "execution_count": 7,
   "id": "f868c2b8",
   "metadata": {},
   "outputs": [
    {
     "name": "stdout",
     "output_type": "stream",
     "text": [
      "Keywords in Python: ['False', 'None', 'True', 'and', 'as', 'assert', 'async', 'await', 'break', 'class', 'continue', 'def', 'del', 'elif', 'else', 'except', 'finally', 'for', 'from', 'global', 'if', 'import', 'in', 'is', 'lambda', 'nonlocal', 'not', 'or', 'pass', 'raise', 'return', 'try', 'while', 'with', 'yield']\n",
      "Length of Keywords in python: 35\n"
     ]
    }
   ],
   "source": [
    "## by using kwlist\n",
    "\n",
    "import keyword\n",
    "\n",
    "print(\"Keywords in Python:\",keyword.kwlist)\n",
    "\n",
    "print(\"Length of Keywords in python:\",len(keyword.kwlist))\n",
    "\n"
   ]
  },
  {
   "cell_type": "markdown",
   "id": "2eab8359",
   "metadata": {},
   "source": [
    "### Variables\n",
    "- Variables are used to store the data or to allocation of memory\n",
    "- Variables have five rules \n",
    "- 1. variables will be alpha-numeric charcaters like [a-z, A-Z] [0-9]\n",
    "- 2. Variables will not start with numeric\n",
    "- 3. Variables will not start with special case letters but _ underscore has a exception.\n",
    "- 4. Variables is Case sensitive\n",
    "- 5 Variables will not be keywords"
   ]
  },
  {
   "cell_type": "code",
   "execution_count": 11,
   "id": "e9611c8a",
   "metadata": {},
   "outputs": [],
   "source": [
    "## Examples for variables\n",
    "# this are accept rules\n",
    "\n",
    "a=7\n",
    "A=7\n",
    "a12=7\n",
    "_A12=7\n",
    "_a12=7"
   ]
  },
  {
   "cell_type": "code",
   "execution_count": 12,
   "id": "7d67c06b",
   "metadata": {},
   "outputs": [
    {
     "ename": "SyntaxError",
     "evalue": "invalid decimal literal (3147569059.py, line 1)",
     "output_type": "error",
     "traceback": [
      "\u001b[1;36m  Cell \u001b[1;32mIn[12], line 1\u001b[1;36m\u001b[0m\n\u001b[1;33m    1A=3  # start with numeric\u001b[0m\n\u001b[1;37m    ^\u001b[0m\n\u001b[1;31mSyntaxError\u001b[0m\u001b[1;31m:\u001b[0m invalid decimal literal\n"
     ]
    }
   ],
   "source": [
    "1A=3  # start with numeric\n",
    "class=3  # keyword as variable\n",
    "@s=7    # special charcter has a start\n",
    "\n",
    "## this varibales does not followed variables rules that's why it shows errors."
   ]
  },
  {
   "cell_type": "code",
   "execution_count": 10,
   "id": "0603d47b",
   "metadata": {},
   "outputs": [
    {
     "name": "stdout",
     "output_type": "stream",
     "text": [
      "Yes right to vote\n"
     ]
    }
   ],
   "source": [
    "# Examples why we need keywords\n",
    "# Iam using if condition to check roght to vote or not\n",
    "# So if age is greater or equal to a then print yes if it is wrong then it goes for else condition and it will print\n",
    "\n",
    "a=20\n",
    "if a>=20:\n",
    "    print(\"Yes right to vote\")\n",
    "    \n",
    "else:\n",
    "    print(\"NO\")"
   ]
  },
  {
   "cell_type": "code",
   "execution_count": 5,
   "id": "dbf365d8",
   "metadata": {},
   "outputs": [
    {
     "name": "stdout",
     "output_type": "stream",
     "text": [
      "45 67 90\n",
      "78 78 78\n"
     ]
    }
   ],
   "source": [
    "## multiple to multiple variables\n",
    "\n",
    "a,b,c=45,67,90\n",
    "print(a,b,c)\n",
    "\n",
    "A=B=C=78\n",
    "print(A,B,C)"
   ]
  },
  {
   "cell_type": "code",
   "execution_count": 8,
   "id": "23a62a32",
   "metadata": {},
   "outputs": [
    {
     "name": "stdout",
     "output_type": "stream",
     "text": [
      "Addition 133\n",
      "Subtraction 23\n",
      "Multiply 4290\n",
      "Division 1.4181818181818182\n"
     ]
    }
   ],
   "source": [
    "## Assignment operators\n",
    "\n",
    "a,b=78,55\n",
    "print(\"Addition\",a+b)\n",
    "print(\"Subtraction\",a-b)\n",
    "print(\"Multiply\",a*b)\n",
    "print(\"Division\",a/b)"
   ]
  },
  {
   "cell_type": "code",
   "execution_count": null,
   "id": "1812a790",
   "metadata": {},
   "outputs": [],
   "source": []
  }
 ],
 "metadata": {
  "kernelspec": {
   "display_name": "Python 3 (ipykernel)",
   "language": "python",
   "name": "python3"
  },
  "language_info": {
   "codemirror_mode": {
    "name": "ipython",
    "version": 3
   },
   "file_extension": ".py",
   "mimetype": "text/x-python",
   "name": "python",
   "nbconvert_exporter": "python",
   "pygments_lexer": "ipython3",
   "version": "3.11.7"
  }
 },
 "nbformat": 4,
 "nbformat_minor": 5
}
