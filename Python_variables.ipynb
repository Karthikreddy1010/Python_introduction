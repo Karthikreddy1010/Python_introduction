{
 "cells": [
  {
   "cell_type": "markdown",
   "id": "1eebd26e",
   "metadata": {},
   "source": [
    "### Variables\n",
    "- Variables are used to store the data or to allocation of memory\n",
    "- Variables have five rules\n",
    "- 1. Variables will be alpha-numeric charcaters like [a-z, A-Z] [0-9]\n",
    "- 2. Variables will not start with numeric\n",
    "- 3. Variables will not start with special case letters but _ underscore has a exception.\n",
    "- 4. Variables is Case sensitive\n",
    "- 5  Variables will not be keywords"
   ]
  },
  {
   "cell_type": "code",
   "execution_count": 7,
   "id": "70939d8a",
   "metadata": {},
   "outputs": [
    {
     "name": "stdout",
     "output_type": "stream",
     "text": [
      "7 3.72 1256 Dhoni 7 True False 1j\n",
      "<class 'int'> <class 'float'> <class 'int'> <class 'bool'> <class 'str'> <class 'complex'>\n"
     ]
    }
   ],
   "source": [
    "## Examples for variables\n",
    "# this are accept rules\n",
    "\n",
    "a=7\n",
    "A=3.72\n",
    "a12=1256\n",
    "_A12=\"Dhoni\"\n",
    "_a12=7\n",
    "B=True\n",
    "b=False\n",
    "c=0+1j\n",
    "\n",
    "print(a,A,a12,_A12,_a12,B,b,c)\n",
    "print(type(a),type(A),type(a12),type(B),type(_A12),type(c))\n"
   ]
  },
  {
   "cell_type": "code",
   "execution_count": 3,
   "id": "2f758a67",
   "metadata": {},
   "outputs": [
    {
     "ename": "SyntaxError",
     "evalue": "invalid decimal literal (861415913.py, line 1)",
     "output_type": "error",
     "traceback": [
      "\u001b[1;36m  Cell \u001b[1;32mIn[3], line 1\u001b[1;36m\u001b[0m\n\u001b[1;33m    1A=3  # start with numeric\u001b[0m\n\u001b[1;37m    ^\u001b[0m\n\u001b[1;31mSyntaxError\u001b[0m\u001b[1;31m:\u001b[0m invalid decimal literal\n"
     ]
    }
   ],
   "source": [
    "1A=3  # start with numeric\n",
    "class=3  # keyword as variable\n",
    "@s=7.4 # special charcter has a start\n",
    "1c=True\n",
    "\n",
    "## this varibales does not followed variables rules that's why it shows errors."
   ]
  },
  {
   "cell_type": "markdown",
   "id": "b946379f",
   "metadata": {},
   "source": [
    "# Data Types"
   ]
  },
  {
   "cell_type": "markdown",
   "id": "55ce495b",
   "metadata": {},
   "source": [
    "### In python there are two types of data types\n",
    "-  1. Basic Data type\n",
    "-  2. Advanced Data type\n",
    "\n",
    "-  1. Basic Data type\n",
    "-    In Basic data type there are 4 types\n",
    "- Data type is to identify the variable which type of data is stored for that variable\n",
    "-     1.1 Int- In integer from -infinity to + infinity all are integers\n",
    "-     1.2 Float - In float means decimal numbers -infinity to + infinity\n",
    "-     1.3 Complex - Complex numbers means real number and imaginary number\n",
    "           \n",
    "-         complex number = real number + imaginary number\n",
    "\n",
    "-         complex number = 3 + 2j\n",
    "\n",
    "-     1.4 Boolean- Boolean means True are False"
   ]
  },
  {
   "cell_type": "code",
   "execution_count": 10,
   "id": "25c3ca34",
   "metadata": {},
   "outputs": [
    {
     "name": "stdout",
     "output_type": "stream",
     "text": [
      "Add: 100\n",
      "Sub: -96\n",
      "Mul: 196\n",
      "Div: 0.02040816326530612\n"
     ]
    }
   ],
   "source": [
    "## Example of INt\n",
    "\n",
    "a,b=2,98\n",
    "print(\"Add:\",a+b)\n",
    "print(\"Sub:\",a-b)\n",
    "print(\"Mul:\",a*b)\n",
    "print(\"Div:\",a/b)"
   ]
  },
  {
   "cell_type": "code",
   "execution_count": 11,
   "id": "267d9f3a",
   "metadata": {},
   "outputs": [
    {
     "name": "stdout",
     "output_type": "stream",
     "text": [
      "Add: 13.399999999999999\n",
      "Sub: 2.2\n",
      "Mul: 43.68\n",
      "Div: 1.392857142857143\n"
     ]
    }
   ],
   "source": [
    "## Example of float\n",
    "\n",
    "a=7.8\n",
    "b=5.6\n",
    "print(\"Add:\",a+b)\n",
    "print(\"Sub:\",a-b)\n",
    "print(\"Mul:\",a*b)\n",
    "print(\"Div:\",a/b)"
   ]
  },
  {
   "cell_type": "code",
   "execution_count": 12,
   "id": "de72f343",
   "metadata": {},
   "outputs": [
    {
     "name": "stdout",
     "output_type": "stream",
     "text": [
      "Add: (2+4j)\n",
      "Sub: (2-2j)\n",
      "Mul: (-3+6j)\n",
      "Div: (0.3333333333333333-0.6666666666666666j)\n"
     ]
    }
   ],
   "source": [
    "## Example of Complex\n",
    "\n",
    "a=2+1j\n",
    "b=0+3j\n",
    "print(\"Add:\",a+b)\n",
    "print(\"Sub:\",a-b)\n",
    "print(\"Mul:\",a*b)\n",
    "print(\"Div:\",a/b)"
   ]
  },
  {
   "cell_type": "code",
   "execution_count": 13,
   "id": "45acca71",
   "metadata": {},
   "outputs": [
    {
     "name": "stdout",
     "output_type": "stream",
     "text": [
      "True\n"
     ]
    }
   ],
   "source": [
    "## Example of Boolean\n",
    "\n",
    "a= True\n",
    "if a==True:\n",
    "    print(True)\n",
    "else:\n",
    "    print(False)"
   ]
  },
  {
   "cell_type": "code",
   "execution_count": null,
   "id": "27366a06",
   "metadata": {},
   "outputs": [],
   "source": []
  }
 ],
 "metadata": {
  "kernelspec": {
   "display_name": "Python 3 (ipykernel)",
   "language": "python",
   "name": "python3"
  },
  "language_info": {
   "codemirror_mode": {
    "name": "ipython",
    "version": 3
   },
   "file_extension": ".py",
   "mimetype": "text/x-python",
   "name": "python",
   "nbconvert_exporter": "python",
   "pygments_lexer": "ipython3",
   "version": "3.11.7"
  }
 },
 "nbformat": 4,
 "nbformat_minor": 5
}
