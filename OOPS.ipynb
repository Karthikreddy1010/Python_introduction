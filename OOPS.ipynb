{
 "cells": [
  {
   "cell_type": "markdown",
   "id": "bba9005c",
   "metadata": {},
   "source": [
    "## OBJECT ORIENTED PROGRAMMING"
   ]
  },
  {
   "cell_type": "markdown",
   "id": "ff915774",
   "metadata": {},
   "source": [
    "### Class \n",
    "\n",
    "- class is a blue print for creating objects\n",
    "- class is defined by class keyword\n"
   ]
  },
  {
   "cell_type": "markdown",
   "id": "a940a2ea",
   "metadata": {},
   "source": [
    "### Object\n",
    "\n",
    "- Object is a real world entity"
   ]
  },
  {
   "cell_type": "code",
   "execution_count": 109,
   "id": "c46a64a8",
   "metadata": {},
   "outputs": [
    {
     "name": "stdout",
     "output_type": "stream",
     "text": [
      "I am Sai and I am 13 years old.\n",
      "Total 100 Students in a school.\n"
     ]
    }
   ],
   "source": [
    "class Students:\n",
    "    def __init__(self, name, age):\n",
    "        self.name = name\n",
    "        self.age = age\n",
    "\n",
    "    def set_total(self, total):\n",
    "        self.total = total\n",
    "\n",
    "# Create an instance with name and age\n",
    "student = Students(\"Sai\", 13)\n",
    "print(f'I am {student.name} and I am {student.age} years old.')\n",
    "\n",
    "# Use the set_total method to define the total\n",
    "student.set_total(100)\n",
    "print(f\"Total {student.total} Students in a school.\")\n"
   ]
  },
  {
   "cell_type": "code",
   "execution_count": 110,
   "id": "66ea7416",
   "metadata": {},
   "outputs": [
    {
     "name": "stdout",
     "output_type": "stream",
     "text": [
      "There are 50 doctors and 25 wards\n",
      "There are total 100 patients in a hospital.\n"
     ]
    }
   ],
   "source": [
    "class Healthcare:\n",
    "    def __init__(self,doctors,wards):\n",
    "        self.doctors=doctors\n",
    "        self.wards=wards\n",
    "    def hospital(self,no_of_patients):\n",
    "        self.no_of_patients=no_of_patients\n",
    "        \n",
    "        \n",
    "hospital1=Healthcare(50,25)\n",
    "print(f\"There are {hospital1.doctors} doctors and {hospital1.wards} wards\")\n",
    "hospital1.hospital(100)\n",
    "print(f\"There are total {hospital1.no_of_patients} patients in a hospital.\")\n",
    "        "
   ]
  },
  {
   "cell_type": "code",
   "execution_count": 111,
   "id": "54f78f82",
   "metadata": {},
   "outputs": [
    {
     "name": "stdout",
     "output_type": "stream",
     "text": [
      "Total no of 100 manufactured by the 500 workers\n",
      "TOtal no of managers5\n"
     ]
    }
   ],
   "source": [
    "class Automobile:\n",
    "    def __init__(self,vechiles,workers):\n",
    "        self.vechiles=vechiles\n",
    "        self.workers=workers\n",
    "    def mobiles(self,managers):\n",
    "        self.managers=managers\n",
    "        \n",
    "    def __str__(self):\n",
    "        return f\"Total no of {self.vechiles} manufactured by the {self.workers} workers\"\n",
    "        \n",
    "ve=Automobile(100,500)\n",
    "ve.mobiles(5)\n",
    "print(ve)\n",
    "print(f\"TOtal no of managers{ve.managers}\")"
   ]
  },
  {
   "cell_type": "markdown",
   "id": "25a7ebbf",
   "metadata": {},
   "source": [
    "### For calling second function we have use object.function\n",
    "\n",
    "#### ve1.mobiles(100)"
   ]
  },
  {
   "cell_type": "code",
   "execution_count": 112,
   "id": "e4c4eb42",
   "metadata": {},
   "outputs": [
    {
     "name": "stdout",
     "output_type": "stream",
     "text": [
      "Total number of projects 25 and sucess of projects 10\n",
      "Total number of engineers worked for manufacturing the flight 10\n"
     ]
    }
   ],
   "source": [
    "class Aerospace:\n",
    "    def __init__(self,projects,sucess):\n",
    "        self.projects=projects\n",
    "        self.sucess=sucess\n",
    "    def engineers(self,eng):\n",
    "        self.eng=eng\n",
    "    def __str__(self):\n",
    "        return f\"Total number of projects {self.projects} and sucess of projects {self.sucess}\"\n",
    "    \n",
    "aer=Aerospace(25,10)\n",
    "aer.engineers(10)\n",
    "print(aer)\n",
    "print(f\"Total number of engineers worked for manufacturing the flight {aer.eng}\")"
   ]
  },
  {
   "cell_type": "code",
   "execution_count": 113,
   "id": "58299328",
   "metadata": {},
   "outputs": [
    {
     "name": "stdout",
     "output_type": "stream",
     "text": [
      "Tourist place is Ooty , it is located in Tamil nadu state.\n",
      "Famous place in ooty is Mountain view.\n"
     ]
    }
   ],
   "source": [
    "class Tourism:\n",
    "    def __init__(self,place,state):\n",
    "        self.place=place\n",
    "        self.state=state\n",
    "    def famous(self,places):\n",
    "        self.places=places\n",
    "        \n",
    "to=Tourism(\"Ooty\",\"Tamil nadu\")\n",
    "print(f\"Tourist place is {to.place} , it is located in {to.state} state.\")\n",
    "to.famous(\"Mountain view\")\n",
    "print(f\"Famous place in ooty is {to.places}.\" )"
   ]
  },
  {
   "cell_type": "code",
   "execution_count": 114,
   "id": "d6c5ecb4",
   "metadata": {},
   "outputs": [
    {
     "name": "stdout",
     "output_type": "stream",
     "text": [
      "Total number of population 1200000000 in a India.\n",
      "Total number of state in a country 28.\n"
     ]
    }
   ],
   "source": [
    "class population:\n",
    "    def __init__(self,population,country):\n",
    "        self.population=population\n",
    "        self.country=country\n",
    "    def states(self,state):\n",
    "        self.state=state\n",
    "    def __str__(self):\n",
    "        return f\"Total number of population {self.population} in a {self.country}.\"\n",
    "po=population(1200000000,\"India\")   \n",
    "po.states(28)\n",
    "print(po)\n",
    "print(f\"Total number of state in a country {po.state}.\")"
   ]
  },
  {
   "cell_type": "code",
   "execution_count": 115,
   "id": "2117ccae",
   "metadata": {},
   "outputs": [
    {
     "name": "stdout",
     "output_type": "stream",
     "text": [
      "Total population: 1200000000 in India.\n",
      "Total number of states in the country: 28.\n"
     ]
    }
   ],
   "source": [
    "class Population:\n",
    "    def __init__(self, population, country):\n",
    "        self.population = population\n",
    "        self.country = country\n",
    "\n",
    "    def set_states(self, state):\n",
    "        self.state = state\n",
    "\n",
    "    def __str__(self):\n",
    "        return f\"Total population: {self.population} in {self.country}.\"\n",
    "\n",
    "# Create an instance of Population\n",
    "po = Population(1200000000, \"India\")   \n",
    "po.set_states(28)\n",
    "\n",
    "# Print population details and the number of states\n",
    "print(po)\n",
    "print(f\"Total number of states in the country: {po.state}.\")\n"
   ]
  },
  {
   "cell_type": "code",
   "execution_count": 116,
   "id": "5530e15c",
   "metadata": {},
   "outputs": [
    {
     "name": "stdout",
     "output_type": "stream",
     "text": [
      "There are 7 continents and 5 oceans in earth.\n",
      "There are 10 in the world\n"
     ]
    }
   ],
   "source": [
    "class world:\n",
    "    def __init__(self,continents,oceans):\n",
    "        self.continents=continents\n",
    "        self.oceans=oceans\n",
    "    def deserts(self,no):\n",
    "        self.no=no\n",
    "        \n",
    "wo=world(7,5)\n",
    "wo.deserts(10)\n",
    "print(f\"There are {wo.continents} continents and {wo.oceans} oceans in earth.\" )\n",
    "\n",
    "print(f\"There are {wo.no} in the world\")"
   ]
  },
  {
   "cell_type": "code",
   "execution_count": 117,
   "id": "cfbbfec1",
   "metadata": {},
   "outputs": [
    {
     "name": "stdout",
     "output_type": "stream",
     "text": [
      "Enter a num:2\n",
      "Enter b num:23\n",
      "Before swapping: 2 23\n",
      "After swapping: 23 2\n"
     ]
    }
   ],
   "source": [
    "class swap:\n",
    "    def __init__(self,a,b):\n",
    "        self.a=a\n",
    "        self.b=b\n",
    "        print(\"Before swapping:\",a,b)\n",
    "        a,b=b,a\n",
    "        print(\"After swapping:\",a,b)\n",
    "        \n",
    "a=int(input(\"Enter a num:\"))\n",
    "b=int(input(\"Enter b num:\"))\n",
    "swaps=swap(a,b)"
   ]
  },
  {
   "cell_type": "markdown",
   "id": "022f101c",
   "metadata": {},
   "source": [
    "### Inheritance\n",
    "- We can inhert features from one class to another class\n",
    "- Base class(parent),derived class(child)"
   ]
  },
  {
   "cell_type": "code",
   "execution_count": 118,
   "id": "44d7703a",
   "metadata": {},
   "outputs": [],
   "source": [
    "class Animal:\n",
    "    def cat(self):\n",
    "        print(\"It has four legs\")\n",
    "    def color(self):\n",
    "        print(\"Orange color\")\n",
    "class Dog(Animal):\n",
    "    def bhevaiour(self):\n",
    "        print(\"Bhevaiour like a animal\")\n",
    "        \n"
   ]
  },
  {
   "cell_type": "code",
   "execution_count": 119,
   "id": "710cc79d",
   "metadata": {},
   "outputs": [
    {
     "name": "stdout",
     "output_type": "stream",
     "text": [
      "Bhevaiour like a animal\n",
      "It has four legs\n",
      "Orange color\n"
     ]
    }
   ],
   "source": [
    "a=Dog()\n",
    "a.bhevaiour()\n",
    "a.cat()\n",
    "a.color()"
   ]
  },
  {
   "cell_type": "code",
   "execution_count": 120,
   "id": "6cd908a7",
   "metadata": {},
   "outputs": [],
   "source": [
    "class Animal:\n",
    "    def cat(self,name,age):\n",
    "        self.name=name\n",
    "        self.age=age\n",
    "        print(\"Name of Animal:\",name)\n",
    "        print(\"Age of Animal:\",age)\n",
    "    def color(self,color):\n",
    "        self.color=color\n",
    "        print(\"Color of a animal:\",color)\n",
    "class Dog(Animal):\n",
    "    def bhevaiour(self,eye_color):\n",
    "        self.eye_color=eye_color\n",
    "        print(\"Animal eyes color:\",eye_color)\n",
    "        \n"
   ]
  },
  {
   "cell_type": "code",
   "execution_count": 121,
   "id": "8033151e",
   "metadata": {},
   "outputs": [
    {
     "name": "stdout",
     "output_type": "stream",
     "text": [
      "Enter a name of animal:toby\n",
      "Enter age of animal:2\n",
      "Enter a color of animal:brown\n",
      "Enter animal eyes color:black\n",
      "Name of Animal: toby\n",
      "Age of Animal: 2\n",
      "Color of a animal: brown\n",
      "Animal eyes color: black\n"
     ]
    }
   ],
   "source": [
    "dog=Dog()\n",
    "name=input(\"Enter a name of animal:\")\n",
    "age=int(input(\"Enter age of animal:\"))\n",
    "color=input(\"Enter a color of animal:\")\n",
    "eye=input(\"Enter animal eyes color:\")\n",
    "dog.cat(name,age)\n",
    "dog.color(color)\n",
    "dog.bhevaiour(eye)\n"
   ]
  },
  {
   "cell_type": "code",
   "execution_count": 122,
   "id": "2b0a6bb1",
   "metadata": {},
   "outputs": [],
   "source": [
    "class vehicles:\n",
    "    def __init__(self,name,year):\n",
    "        self.name=name\n",
    "        self.year=year\n",
    "    def Ford(self):\n",
    "        print(self.name)\n",
    "        print(self.year)\n",
    "    def color(self,color):\n",
    "        self.color=color\n",
    "        print(self.color)\n",
    "class Ferrari(vehicles):\n",
    "    def __init__(self,name,year):\n",
    "        super().__init__(name,year)  ## constructor\n",
    "    def price(self,price):\n",
    "        self.price=price\n",
    "        print(self.price)\n",
    "        \n",
    "        "
   ]
  },
  {
   "cell_type": "code",
   "execution_count": 123,
   "id": "982b12a1",
   "metadata": {},
   "outputs": [
    {
     "name": "stdout",
     "output_type": "stream",
     "text": [
      "Enter model of vehicle:Tesla1\n",
      "Enter manufacture of year::2023\n",
      "Enter color of vehicle:white\n",
      "Enter price of vehicle:20000000\n",
      "Tesla1\n",
      "2023\n",
      "white\n",
      "20000000\n"
     ]
    }
   ],
   "source": [
    "\n",
    "name=input(\"Enter model of vehicle:\")\n",
    "year=int(input(\"Enter manufacture of year::\"))\n",
    "color=input(\"Enter color of vehicle:\")\n",
    "price=int(input(\"Enter price of vehicle:\"))\n",
    "car=Ferrari(name,year)\n",
    "car.Ford()\n",
    "car.color(color)\n",
    "car.price(price)"
   ]
  },
  {
   "cell_type": "markdown",
   "id": "803ab2b6",
   "metadata": {},
   "source": [
    "### Encapulsation\n",
    "\n",
    "- It means binding data into single unit\n",
    "\n",
    "- It has two prototypes\n",
    "-   1. protected - it has one underscore(_) , we can use this type in another class also.\n",
    "-   2. Private   - it has double underscore(__), we cannot use this type in another class."
   ]
  },
  {
   "cell_type": "code",
   "execution_count": 124,
   "id": "b4df13fa",
   "metadata": {},
   "outputs": [],
   "source": [
    "class bank:\n",
    "    def __init__(self,acc,balance):\n",
    "        self._acc=acc  #protect\n",
    "        self.__balance=balance  # private\n",
    "    def details(self):\n",
    "        print(f'Bank account number:{self._acc}')\n",
    "        print(f'Bank balance amount:{self.__balance}')"
   ]
  },
  {
   "cell_type": "code",
   "execution_count": 125,
   "id": "371b647a",
   "metadata": {},
   "outputs": [],
   "source": [
    "b=bank(1234,456)\n"
   ]
  },
  {
   "cell_type": "code",
   "execution_count": 126,
   "id": "f0635e4d",
   "metadata": {},
   "outputs": [
    {
     "name": "stdout",
     "output_type": "stream",
     "text": [
      "Bank account number:1234\n",
      "Bank balance amount:456\n"
     ]
    }
   ],
   "source": [
    "b.details()"
   ]
  },
  {
   "cell_type": "code",
   "execution_count": 127,
   "id": "dd980174",
   "metadata": {},
   "outputs": [],
   "source": [
    "class bank:\n",
    "    def __init__(self,acc,balance):\n",
    "        self._acc=acc  #protect\n",
    "        self.__balance=balance  # private\n",
    "    def details(self):\n",
    "        print(f'Bank account number:{self._acc}')\n",
    "        print(f'Bank balance amount:{self.__balance}')\n",
    "        \n",
    "class bank1(bank):\n",
    "    def get_info(self):\n",
    "        print(f'Bank account number:{self._acc}')\n",
    "        print(f'Bank balance amount:{self.__balance}')\n",
    "        "
   ]
  },
  {
   "cell_type": "code",
   "execution_count": 128,
   "id": "157a55c8",
   "metadata": {},
   "outputs": [],
   "source": [
    "b1=bank1(1234,567)"
   ]
  },
  {
   "cell_type": "code",
   "execution_count": 129,
   "id": "dd983932",
   "metadata": {},
   "outputs": [
    {
     "name": "stdout",
     "output_type": "stream",
     "text": [
      "Bank account number:1234\n"
     ]
    },
    {
     "ename": "AttributeError",
     "evalue": "'bank1' object has no attribute '_bank1__balance'",
     "output_type": "error",
     "traceback": [
      "\u001b[1;31m---------------------------------------------------------------------------\u001b[0m",
      "\u001b[1;31mAttributeError\u001b[0m                            Traceback (most recent call last)",
      "Cell \u001b[1;32mIn[129], line 1\u001b[0m\n\u001b[1;32m----> 1\u001b[0m b1\u001b[38;5;241m.\u001b[39mget_info()\n",
      "Cell \u001b[1;32mIn[127], line 12\u001b[0m, in \u001b[0;36mbank1.get_info\u001b[1;34m(self)\u001b[0m\n\u001b[0;32m     10\u001b[0m \u001b[38;5;28;01mdef\u001b[39;00m \u001b[38;5;21mget_info\u001b[39m(\u001b[38;5;28mself\u001b[39m):\n\u001b[0;32m     11\u001b[0m     \u001b[38;5;28mprint\u001b[39m(\u001b[38;5;124mf\u001b[39m\u001b[38;5;124m'\u001b[39m\u001b[38;5;124mBank account number:\u001b[39m\u001b[38;5;132;01m{\u001b[39;00m\u001b[38;5;28mself\u001b[39m\u001b[38;5;241m.\u001b[39m_acc\u001b[38;5;132;01m}\u001b[39;00m\u001b[38;5;124m'\u001b[39m)\n\u001b[1;32m---> 12\u001b[0m     \u001b[38;5;28mprint\u001b[39m(\u001b[38;5;124mf\u001b[39m\u001b[38;5;124m'\u001b[39m\u001b[38;5;124mBank balance amount:\u001b[39m\u001b[38;5;132;01m{\u001b[39;00m\u001b[38;5;28mself\u001b[39m\u001b[38;5;241m.\u001b[39m__balance\u001b[38;5;132;01m}\u001b[39;00m\u001b[38;5;124m'\u001b[39m)\n",
      "\u001b[1;31mAttributeError\u001b[0m: 'bank1' object has no attribute '_bank1__balance'"
     ]
    }
   ],
   "source": [
    "b1.get_info()"
   ]
  },
  {
   "cell_type": "code",
   "execution_count": 130,
   "id": "43001732",
   "metadata": {},
   "outputs": [],
   "source": [
    "class account:\n",
    "    def __init__(self,acc,balance,loan,info,pin):\n",
    "        self._acc=acc  # account number in protect\n",
    "        self.__balance=balance  # private\n",
    "        self.__loan=loan # private\n",
    "        self.__info=info #\n",
    "        self.__pin=pin\n",
    "    def get_user_details(self):\n",
    "        print(f'Bank account number:{self._acc}')\n",
    "        print(f'Bank balance:{self.__balance}')\n",
    "        print(f'Loan status:{self.__loan}')\n",
    "        print(f'user information:{self.__info}')\n",
    "        print(f'password:{self.__pin}')\n",
    "    def manager(self):\n",
    "        print(f'Bank account number:{self._acc}')\n",
    "        print(f'Bank balance:{self.__balance}')\n",
    "        print(f'Loan status:{self.__loan}')\n",
    "        print(f'user information:{self.__info}')\n",
    "        \n",
    "class ac(account):\n",
    "    \n",
    "    def bank_clerk(self):\n",
    "        print(f'Bank account number:{self._acc}')\n",
    "        print(f'Bank balance:{self.__balance}')\n",
    "        print(f'Loan status:{self.__loan}')\n",
    "        print(f'user information:{self.__info}')\n",
    "        print(f'password:{self.__pin}')\n",
    "        "
   ]
  },
  {
   "cell_type": "code",
   "execution_count": 131,
   "id": "01f7b665",
   "metadata": {},
   "outputs": [
    {
     "name": "stdout",
     "output_type": "stream",
     "text": [
      "user details can see the user only\n",
      "Bank account number:402345\n",
      "Bank balance:4567\n",
      "Loan status:yes\n",
      "user information:1\n",
      "password:6784\n"
     ]
    }
   ],
   "source": [
    "a=account(402345,4567,'yes',1,6784)\n",
    "print(\"user details can see the user only\")\n",
    "a.get_user_details()\n"
   ]
  },
  {
   "cell_type": "code",
   "execution_count": 132,
   "id": "b758867a",
   "metadata": {},
   "outputs": [
    {
     "name": "stdout",
     "output_type": "stream",
     "text": [
      "Manager can see all details of user except pin no\n",
      "Bank account number:402345\n",
      "Bank balance:4567\n",
      "Loan status:yes\n",
      "user information:1\n"
     ]
    }
   ],
   "source": [
    "print(\"Manager can see all details of user except pin no\")\n",
    "a.manager()"
   ]
  },
  {
   "cell_type": "code",
   "execution_count": 133,
   "id": "ea43196d",
   "metadata": {},
   "outputs": [
    {
     "name": "stdout",
     "output_type": "stream",
     "text": [
      "Bank clerk can see onlt the account number not all details of user\n",
      "Bank account number:12346\n"
     ]
    },
    {
     "ename": "AttributeError",
     "evalue": "'ac' object has no attribute '_ac__balance'",
     "output_type": "error",
     "traceback": [
      "\u001b[1;31m---------------------------------------------------------------------------\u001b[0m",
      "\u001b[1;31mAttributeError\u001b[0m                            Traceback (most recent call last)",
      "Cell \u001b[1;32mIn[133], line 3\u001b[0m\n\u001b[0;32m      1\u001b[0m a1\u001b[38;5;241m=\u001b[39mac(\u001b[38;5;241m12346\u001b[39m,\u001b[38;5;241m678\u001b[39m,\u001b[38;5;124m'\u001b[39m\u001b[38;5;124myes\u001b[39m\u001b[38;5;124m'\u001b[39m,\u001b[38;5;241m1\u001b[39m,\u001b[38;5;241m894\u001b[39m)\n\u001b[0;32m      2\u001b[0m \u001b[38;5;28mprint\u001b[39m(\u001b[38;5;124m\"\u001b[39m\u001b[38;5;124mBank clerk can see onlt the account number not all details of user\u001b[39m\u001b[38;5;124m\"\u001b[39m)\n\u001b[1;32m----> 3\u001b[0m a1\u001b[38;5;241m.\u001b[39mbank_clerk()\n",
      "Cell \u001b[1;32mIn[130], line 24\u001b[0m, in \u001b[0;36mac.bank_clerk\u001b[1;34m(self)\u001b[0m\n\u001b[0;32m     22\u001b[0m \u001b[38;5;28;01mdef\u001b[39;00m \u001b[38;5;21mbank_clerk\u001b[39m(\u001b[38;5;28mself\u001b[39m):\n\u001b[0;32m     23\u001b[0m     \u001b[38;5;28mprint\u001b[39m(\u001b[38;5;124mf\u001b[39m\u001b[38;5;124m'\u001b[39m\u001b[38;5;124mBank account number:\u001b[39m\u001b[38;5;132;01m{\u001b[39;00m\u001b[38;5;28mself\u001b[39m\u001b[38;5;241m.\u001b[39m_acc\u001b[38;5;132;01m}\u001b[39;00m\u001b[38;5;124m'\u001b[39m)\n\u001b[1;32m---> 24\u001b[0m     \u001b[38;5;28mprint\u001b[39m(\u001b[38;5;124mf\u001b[39m\u001b[38;5;124m'\u001b[39m\u001b[38;5;124mBank balance:\u001b[39m\u001b[38;5;132;01m{\u001b[39;00m\u001b[38;5;28mself\u001b[39m\u001b[38;5;241m.\u001b[39m__balance\u001b[38;5;132;01m}\u001b[39;00m\u001b[38;5;124m'\u001b[39m)\n\u001b[0;32m     25\u001b[0m     \u001b[38;5;28mprint\u001b[39m(\u001b[38;5;124mf\u001b[39m\u001b[38;5;124m'\u001b[39m\u001b[38;5;124mLoan status:\u001b[39m\u001b[38;5;132;01m{\u001b[39;00m\u001b[38;5;28mself\u001b[39m\u001b[38;5;241m.\u001b[39m__loan\u001b[38;5;132;01m}\u001b[39;00m\u001b[38;5;124m'\u001b[39m)\n\u001b[0;32m     26\u001b[0m     \u001b[38;5;28mprint\u001b[39m(\u001b[38;5;124mf\u001b[39m\u001b[38;5;124m'\u001b[39m\u001b[38;5;124muser information:\u001b[39m\u001b[38;5;132;01m{\u001b[39;00m\u001b[38;5;28mself\u001b[39m\u001b[38;5;241m.\u001b[39m__info\u001b[38;5;132;01m}\u001b[39;00m\u001b[38;5;124m'\u001b[39m)\n",
      "\u001b[1;31mAttributeError\u001b[0m: 'ac' object has no attribute '_ac__balance'"
     ]
    }
   ],
   "source": [
    "a1=ac(12346,678,'yes',1,894)\n",
    "print(\"Bank clerk can see onlt the account number not all details of user\")\n",
    "a1.bank_clerk()"
   ]
  },
  {
   "cell_type": "markdown",
   "id": "9da7eaf0",
   "metadata": {},
   "source": [
    "### Polymorphism\n",
    "- It means it have many forms or methods"
   ]
  },
  {
   "cell_type": "code",
   "execution_count": 134,
   "id": "b046d1fd",
   "metadata": {},
   "outputs": [
    {
     "name": "stdout",
     "output_type": "stream",
     "text": [
      "Area of rectangle: 10\n",
      "Area of square: 16\n",
      "Area of triangle: 6.0\n",
      "Area of circle: 78.5\n",
      "Enter the number greater than zero\n"
     ]
    }
   ],
   "source": [
    "class measures:\n",
    "    def __init__(self,length,width,height,side,radius):\n",
    "        \n",
    "        self.length=length\n",
    "        self.width=width\n",
    "        self.height=height\n",
    "        self.side=side\n",
    "        self.radius=radius\n",
    "    def area_rectangle(self):\n",
    "        \n",
    "        print('Area of rectangle:',self.length *self. width)\n",
    "    def area_square(self):\n",
    "        \n",
    "        print('Area of square:',self.side * self.side)\n",
    "class area1(measures):\n",
    "    \n",
    "    def area_triangle(self):\n",
    "        print('Area of triangle:',0.5 * self.length*self.height)\n",
    "        \n",
    "    def area_circle(self):\n",
    "        print('Area of circle:',3.14 * self.radius ** 2)\n",
    "        \n",
    "class rules(area1):\n",
    "    \n",
    "    def circle(self):\n",
    "        if self.radius>0:\n",
    "            print(\"Area of circle:\",3.14*self.radius**2)\n",
    "        else:\n",
    "            print(\"Enter the number greater than zero\")\n",
    "\n",
    "\n",
    "            \n",
    "m=measures(2,5,6,4,3)\n",
    "m.area_rectangle()\n",
    "m.area_square()\n",
    "m1=area1(2,5,6,4,5)\n",
    "m1.area_triangle()\n",
    "m1.area_circle()\n",
    "m2.circle()"
   ]
  },
  {
   "cell_type": "markdown",
   "id": "13a78f07",
   "metadata": {},
   "source": [
    "### Abstraction\n",
    "\n",
    "- Abstraction means hiding the data shows, only necessary data to user"
   ]
  },
  {
   "cell_type": "code",
   "execution_count": 135,
   "id": "3d7ad5c5",
   "metadata": {},
   "outputs": [],
   "source": [
    "class bank:\n",
    "    def acc(self):\n",
    "        \n",
    "        pass\n",
    "    def credit(self):\n",
    "        \n",
    "        pass\n",
    "class debit(bank):\n",
    "    \n",
    "    def credit(self):\n",
    "        \n",
    "        pass\n",
    "    def acc(self):\n",
    "        \n",
    "        pass\n",
    "    \n",
    "m=debit()\n",
    "m.credit()\n",
    "m.acc()\n"
   ]
  },
  {
   "cell_type": "code",
   "execution_count": 136,
   "id": "c1928cd7",
   "metadata": {},
   "outputs": [
    {
     "name": "stdout",
     "output_type": "stream",
     "text": [
      "Account details in Debit\n",
      "Credit details in Debit\n"
     ]
    }
   ],
   "source": [
    "from abc import ABC, abstractmethod\n",
    "\n",
    "class Bank(ABC):  # Inherit from ABC to make this an abstract base class\n",
    "    @abstractmethod\n",
    "    def acc(self):\n",
    "        pass\n",
    "\n",
    "    @abstractmethod\n",
    "    def credit(self):\n",
    "        pass\n",
    "\n",
    "class Debit(Bank):  # Debit class must implement the abstract methods\n",
    "    def acc(self):\n",
    "        print(\"Account details in Debit\")\n",
    "\n",
    "    def credit(self):\n",
    "        print(\"Credit details in Debit\")\n",
    "        \n",
    "    def amount(self):\n",
    "        print(\"Amount in Debit\")\n",
    "\n",
    "# Now, you can create an instance of Debit, and it will have to implement the abstract methods\n",
    "m = Debit()\n",
    "m.acc()       # Outputs \"Account details in Debit\"\n",
    "m.credit()    # Outputs \"Credit details in Debit\"\n"
   ]
  },
  {
   "cell_type": "code",
   "execution_count": null,
   "id": "34d19108",
   "metadata": {},
   "outputs": [],
   "source": []
  }
 ],
 "metadata": {
  "kernelspec": {
   "display_name": "Python 3 (ipykernel)",
   "language": "python",
   "name": "python3"
  },
  "language_info": {
   "codemirror_mode": {
    "name": "ipython",
    "version": 3
   },
   "file_extension": ".py",
   "mimetype": "text/x-python",
   "name": "python",
   "nbconvert_exporter": "python",
   "pygments_lexer": "ipython3",
   "version": "3.11.7"
  }
 },
 "nbformat": 4,
 "nbformat_minor": 5
}
