{
 "cells": [
  {
   "cell_type": "markdown",
   "id": "88067c3c",
   "metadata": {},
   "source": [
    "### If Conditional\n",
    "\n",
    "- Conditional statements are used to control flow of a program based on certain rules or conditions.\n",
    "\n",
    "- if statement executes a block of code only if the specified contiton is met it returns true, the condition is not met it returns false"
   ]
  },
  {
   "cell_type": "code",
   "execution_count": 21,
   "id": "691ddf75",
   "metadata": {},
   "outputs": [
    {
     "name": "stdout",
     "output_type": "stream",
     "text": [
      "True\n"
     ]
    }
   ],
   "source": [
    "# If the condition meets it returns true\n",
    "num=[2,3,4,5,6,7]\n",
    "if 3 in num:\n",
    "    print(True)\n",
    "else:\n",
    "    print(False)\n",
    "\n",
    "# the num meets first condition so, it excutes the first block and returns true"
   ]
  },
  {
   "cell_type": "code",
   "execution_count": 25,
   "id": "7d5b23b8",
   "metadata": {},
   "outputs": [
    {
     "name": "stdout",
     "output_type": "stream",
     "text": [
      "Positive\n"
     ]
    },
    {
     "data": {
      "text/plain": [
       "'the first block executes and the condition is not meet so, \\nit executes the second block of statement'"
      ]
     },
     "execution_count": 25,
     "metadata": {},
     "output_type": "execute_result"
    }
   ],
   "source": [
    "num=90\n",
    "if num<0:\n",
    "    print(\"Negative\")\n",
    "elif num>0:\n",
    "    print(\"Positive\")\n",
    "else:\n",
    "    print(\"Zero\")\n",
    "\n",
    "\"\"\"the first block executes and the condition is not meet so, \n",
    "it executes the second block of statement\"\"\""
   ]
  },
  {
   "cell_type": "code",
   "execution_count": 28,
   "id": "7bb596e6",
   "metadata": {},
   "outputs": [
    {
     "name": "stdout",
     "output_type": "stream",
     "text": [
      "z\n",
      "Constants\n"
     ]
    }
   ],
   "source": [
    "char=['a','e','i','o','u']\n",
    "cap=['A','E','I','O','U']\n",
    "i=input()\n",
    "if i in char:\n",
    "    print(\"Vowels\")\n",
    "else:\n",
    "    print(\"Constants\")"
   ]
  },
  {
   "cell_type": "markdown",
   "id": "a89ebaab",
   "metadata": {},
   "source": [
    "### 1.write a python program to check given year is leap year or not"
   ]
  },
  {
   "cell_type": "code",
   "execution_count": 20,
   "id": "273cebd7",
   "metadata": {},
   "outputs": [
    {
     "name": "stdout",
     "output_type": "stream",
     "text": [
      "Enter a year:2004\n",
      "Leap year\n"
     ]
    }
   ],
   "source": [
    "year=int(input(\"Enter a year:\"))\n",
    "\n",
    "if year%400==0:\n",
    "    print(\"Leap year\")\n",
    "elif year%4==0:\n",
    "    print(\"Leap year\")\n",
    "elif year%100==0:\n",
    "    print(\"Non leap year\")\n",
    "else:\n",
    "    print(\"Non leap year\")"
   ]
  },
  {
   "cell_type": "markdown",
   "id": "d255a4a4",
   "metadata": {},
   "source": [
    "### 2.Write a python program to find a given number even or odd"
   ]
  },
  {
   "cell_type": "code",
   "execution_count": 31,
   "id": "af9cc2b0",
   "metadata": {},
   "outputs": [
    {
     "name": "stdout",
     "output_type": "stream",
     "text": [
      "Enter a number:98\n",
      "Even number\n"
     ]
    }
   ],
   "source": [
    "number=int(input(\"Enter a number:\"))\n",
    "\n",
    "if number%2==0:\n",
    "    print(\"Even number\")\n",
    "elif number<0:\n",
    "    print(\"Negative number\")\n",
    "else:\n",
    "    print(\"odd number\")"
   ]
  },
  {
   "cell_type": "markdown",
   "id": "f37d7f3d",
   "metadata": {},
   "source": [
    "### 3.Write a python program to check if a list is empty or not"
   ]
  },
  {
   "cell_type": "code",
   "execution_count": 40,
   "id": "9cafc898",
   "metadata": {},
   "outputs": [
    {
     "name": "stdout",
     "output_type": "stream",
     "text": [
      "list contains elements\n"
     ]
    }
   ],
   "source": [
    "list1=[1,2,3,4,5]\n",
    "\n",
    "if  not list1:\n",
    "    print(\"Empty list\")\n",
    "else:\n",
    "    print(\"list contains elements\")\n"
   ]
  },
  {
   "cell_type": "markdown",
   "id": "530943ac",
   "metadata": {},
   "source": [
    "### 4.Write a python program to calculate grade of a student"
   ]
  },
  {
   "cell_type": "code",
   "execution_count": 8,
   "id": "ca2e2ee8",
   "metadata": {},
   "outputs": [
    {
     "name": "stdout",
     "output_type": "stream",
     "text": [
      "Enter marks:95\n",
      "Grade A\n"
     ]
    }
   ],
   "source": [
    "marks=int(input(\"Enter marks:\"))\n",
    "\n",
    "if marks>90:\n",
    "    print(\"Grade A\")\n",
    "elif marks> 80 and marks<=90:\n",
    "    print(\"Grade B\")\n",
    "elif marks>70 and marks<=80:\n",
    "    print(\"Grade C\")\n",
    "elif marks>60 and marks<=70:\n",
    "    print(\"Grade D\")\n",
    "elif marks>50 and marks<=60:\n",
    "    print(\"Grade E\")\n",
    "else:\n",
    "    print(\"Fail\")\n",
    "    "
   ]
  },
  {
   "cell_type": "markdown",
   "id": "c3b418f8",
   "metadata": {},
   "source": [
    "### 5.Write a python code to check whether given word is a palindrome or not"
   ]
  },
  {
   "cell_type": "code",
   "execution_count": 23,
   "id": "d91feeca",
   "metadata": {},
   "outputs": [
    {
     "name": "stdout",
     "output_type": "stream",
     "text": [
      "Enter a string:Mam\n",
      "Palidrome\n"
     ]
    }
   ],
   "source": [
    "string=input(\"Enter a string:\")\n",
    "\n",
    "string=string.replace(\" \",\" \").lower()\n",
    "\n",
    "if string==string[::-1]:\n",
    "    print(\"Palidrome\")\n",
    "else:\n",
    "    print(\"No\")\n",
    "    \n",
    "#[::-1] it reverse the string\n",
    "#first we have to remove spaces and convert into lowercase\n",
    "\n"
   ]
  },
  {
   "cell_type": "markdown",
   "id": "db3c6c96",
   "metadata": {},
   "source": [
    "### 6.Write a python code to find the smallest among the three numbers"
   ]
  },
  {
   "cell_type": "code",
   "execution_count": 7,
   "id": "1d8863cf",
   "metadata": {},
   "outputs": [
    {
     "name": "stdout",
     "output_type": "stream",
     "text": [
      "Enter a digit x:1\n",
      "Enter a digit y:1\n",
      "Enter a digit z:1\n",
      "All number are same\n"
     ]
    }
   ],
   "source": [
    "x=int(input(\"Enter a digit x:\"))\n",
    "y=int(input(\"Enter a digit y:\"))\n",
    "z=int(input(\"Enter a digit z:\"))\n",
    "\n",
    "if x<y and x<z:\n",
    "    print(x,\"Smallest number\")\n",
    "elif y<x and y<z:\n",
    "    print(y,\"Smallest number\")\n",
    "elif z<x and z<y:\n",
    "    print(z,\"Smallest number\")\n",
    "else:\n",
    "    print(\"All number are same\")"
   ]
  },
  {
   "cell_type": "markdown",
   "id": "651cc8ec",
   "metadata": {},
   "source": [
    "### 7. Write a python code to find the second largest number in a list"
   ]
  },
  {
   "cell_type": "code",
   "execution_count": 26,
   "id": "e110f22a",
   "metadata": {},
   "outputs": [
    {
     "name": "stdout",
     "output_type": "stream",
     "text": [
      "The second largest number is: 45\n"
     ]
    }
   ],
   "source": [
    "list2=[1,23,45,67,2]\n",
    "\n",
    "list2.sort(reverse=True)\n",
    "\n",
    "if len(list2)>=2:\n",
    "    print(f\"The second largest number is: {list2[1]}\")"
   ]
  },
  {
   "cell_type": "markdown",
   "id": "3db7339a",
   "metadata": {},
   "source": [
    "### 8.Calculate BMI and categorize it\n",
    "- under weight , over weight , normal weight"
   ]
  },
  {
   "cell_type": "code",
   "execution_count": 11,
   "id": "4f97e083",
   "metadata": {},
   "outputs": [
    {
     "name": "stdout",
     "output_type": "stream",
     "text": [
      "Enter your weight:70\n",
      "Enter your height in meters:1.75\n",
      "22.857142857142858 Normal Weight\n"
     ]
    }
   ],
   "source": [
    "weight=float(input(\"Enter your weight:\"))\n",
    "height=float(input(\"Enter your height in meters:\"))\n",
    "\n",
    "BMI=weight/(height **2)\n",
    "\n",
    "if BMI<18.5:\n",
    "    print(BMI,\"Under Weight\")\n",
    "elif BMI>18.5 and BMI<24.9:\n",
    "    print(BMI,\"Normal Weight\")\n",
    "elif BMI>25 and BMI<29.9:\n",
    "    print(BMI,\"Over Weight\")\n",
    "else:\n",
    "    print(BMI,\"Obesity\")"
   ]
  },
  {
   "cell_type": "markdown",
   "id": "909e1fd3",
   "metadata": {},
   "source": [
    "### 9.Write a python code to check vote eligiblity"
   ]
  },
  {
   "cell_type": "code",
   "execution_count": 30,
   "id": "1148b466",
   "metadata": {},
   "outputs": [
    {
     "name": "stdout",
     "output_type": "stream",
     "text": [
      "120\n",
      "Right to vote\n"
     ]
    }
   ],
   "source": [
    "age=int(input())\n",
    "\n",
    "if age>=18 and age<=120:\n",
    "    print(\"Right to vote\")\n",
    "elif age==17:\n",
    "    print(\"Register for voting\")\n",
    "else:\n",
    "    print(\"No right to vote\")"
   ]
  },
  {
   "cell_type": "markdown",
   "id": "c550379d",
   "metadata": {},
   "source": [
    "### 10.Write a python code to find the person which type of group\n",
    "\n",
    "- 1. school group less than 22\n",
    "- 2. work group greater than 22 and lessthan 50\n",
    "- 3. Retire group greater than 50\n",
    "\n",
    "- parameter age"
   ]
  },
  {
   "cell_type": "code",
   "execution_count": 23,
   "id": "0a4ed166",
   "metadata": {},
   "outputs": [
    {
     "name": "stdout",
     "output_type": "stream",
     "text": [
      "Enter your age:34\n",
      "Work Group\n"
     ]
    }
   ],
   "source": [
    "age=int(input(\"Enter your age:\"))\n",
    "\n",
    "if age<22 and age>6:\n",
    "    print(\"School Group\")\n",
    "elif age>22 and age<=50:\n",
    "    print(\"Work Group\")\n",
    "elif age>50:\n",
    "    print(\"Retirement\")\n",
    "else:\n",
    "    print(\"Childhood\")"
   ]
  },
  {
   "cell_type": "code",
   "execution_count": null,
   "id": "a761f4b5",
   "metadata": {},
   "outputs": [],
   "source": []
  }
 ],
 "metadata": {
  "kernelspec": {
   "display_name": "Python 3 (ipykernel)",
   "language": "python",
   "name": "python3"
  },
  "language_info": {
   "codemirror_mode": {
    "name": "ipython",
    "version": 3
   },
   "file_extension": ".py",
   "mimetype": "text/x-python",
   "name": "python",
   "nbconvert_exporter": "python",
   "pygments_lexer": "ipython3",
   "version": "3.11.7"
  }
 },
 "nbformat": 4,
 "nbformat_minor": 5
}
