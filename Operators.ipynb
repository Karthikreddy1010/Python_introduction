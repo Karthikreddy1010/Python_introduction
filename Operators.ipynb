{
 "cells": [
  {
   "cell_type": "markdown",
   "id": "df315b74",
   "metadata": {},
   "source": [
    "## Operators"
   ]
  },
  {
   "cell_type": "markdown",
   "id": "4e4b12ea",
   "metadata": {},
   "source": [
    "### Operators is used to perform some operations on variables.\n",
    "\n",
    "-   Operators or seven types\n",
    "-   1. Arithmetic operator\n",
    "-   2. Assignment operator\n",
    "-   3. Logical operator\n",
    "-   4. Comparsion operator\n",
    "-   5. Identity operator\n",
    "-   6. Membership Operator\n",
    "-   7. Bitwise operator"
   ]
  },
  {
   "cell_type": "markdown",
   "id": "aefc409c",
   "metadata": {},
   "source": [
    "### Arithmetic operator\n",
    "-  This operators are basic math operators like\n",
    "- 1. Addition = +\n",
    "- 2. Subtraction = -\n",
    "- 3. Multiply = *\n",
    "- 4. Division = /\n",
    "- 5. Remainder = %\n",
    "- 6. Floor division = //\n",
    "- 7. Power = **"
   ]
  },
  {
   "cell_type": "code",
   "execution_count": 2,
   "id": "44709a7b",
   "metadata": {},
   "outputs": [
    {
     "name": "stdout",
     "output_type": "stream",
     "text": [
      "Addition 38\n",
      "subtraction -34\n",
      "Multipy 72\n",
      "Division 0.05555555555555555\n",
      "Floor division 0\n",
      "Reaminder 2\n",
      "Power 68719476736\n"
     ]
    }
   ],
   "source": [
    "## 1 . Assignment operators\n",
    "\n",
    "a=2\n",
    "b=36\n",
    "print(\"Addition\",a+b)\n",
    "print(\"subtraction\",a-b)\n",
    "print(\"Multipy\",a*b)\n",
    "print(\"Division\",a/b)\n",
    "print(\"Floor division\",a//b)\n",
    "print(\"Reaminder\",a%b)\n",
    "print(\"Power\",a**b)"
   ]
  },
  {
   "cell_type": "markdown",
   "id": "7356feb2",
   "metadata": {},
   "source": [
    "### Asignment operators mainly used for code optimization\n",
    "\n",
    "- Assignment opeartors like a+=b so it uses only 3 bits and c=a+b it uses 5 bits"
   ]
  },
  {
   "cell_type": "code",
   "execution_count": 10,
   "id": "4d911b2e",
   "metadata": {},
   "outputs": [
    {
     "name": "stdout",
     "output_type": "stream",
     "text": [
      "Addition 28\n",
      "Subtraction 7\n",
      "Multipy 147\n",
      "Divisor 7.0\n",
      "Floor division 0.0\n",
      "Remainder 0.0\n",
      "power 64\n"
     ]
    }
   ],
   "source": [
    "## 2. Assignment operators\n",
    "\n",
    "a=7\n",
    "b=21\n",
    "a+=b\n",
    "print(\"Addition\",a)\n",
    "a-=b\n",
    "print(\"Subtraction\",a)\n",
    "a*=b\n",
    "print(\"Multipy\",a)\n",
    "a/=b\n",
    "print(\"Divisor\",a)\n",
    "a//=b\n",
    "print(\"Floor division\",a)\n",
    "a%=b\n",
    "print(\"Remainder\",a)\n",
    "c=2\n",
    "d=6\n",
    "c**=d\n",
    "print(\"power\",c)"
   ]
  },
  {
   "cell_type": "markdown",
   "id": "0c355ba5",
   "metadata": {},
   "source": [
    "### Comparsion operators uses to compare the varibales\n",
    "\n",
    "- <,>,==,!=,>=,<="
   ]
  },
  {
   "cell_type": "code",
   "execution_count": 2,
   "id": "c31f3ff1",
   "metadata": {},
   "outputs": [
    {
     "name": "stdout",
     "output_type": "stream",
     "text": [
      "True\n",
      "False\n",
      "False\n",
      "True\n",
      "True\n",
      "False\n"
     ]
    }
   ],
   "source": [
    "a=56\n",
    "b=98\n",
    "print(a<b)\n",
    "print(a>b)\n",
    "print(a==b)\n",
    "print(a!=b)\n",
    "print(a<=b)\n",
    "print(a>=b)"
   ]
  },
  {
   "cell_type": "code",
   "execution_count": 3,
   "id": "645bf4b9",
   "metadata": {},
   "outputs": [
    {
     "name": "stdout",
     "output_type": "stream",
     "text": [
      "True\n",
      "False\n",
      "False\n",
      "True\n",
      "True\n",
      "False\n"
     ]
    }
   ],
   "source": [
    "a=4.5\n",
    "b=7.8\n",
    "print(a<b)\n",
    "print(a>b)\n",
    "print(a==b)\n",
    "print(a!=b)\n",
    "print(a<=b)\n",
    "print(a>=b)"
   ]
  },
  {
   "cell_type": "markdown",
   "id": "ad8b1228",
   "metadata": {},
   "source": [
    "### Logical operator if the condition is satisifies it will return True other wise False\n",
    "\n",
    "- AND = T And T  = T, T And F= F\n",
    "- OR  = T or T  =T, F or T= T, F or F =F\n",
    "- NOT = it will oppiste to and , or operations."
   ]
  },
  {
   "cell_type": "code",
   "execution_count": 4,
   "id": "291e0ed7",
   "metadata": {},
   "outputs": [
    {
     "name": "stdout",
     "output_type": "stream",
     "text": [
      "True\n"
     ]
    }
   ],
   "source": [
    "a=56\n",
    "b=67\n",
    "c=4\n",
    "d=6\n",
    "print(a<b and c<d)\n",
    "print(a>b and c<d)\n",
    "print(a==b and c<d)\n",
    "print()"
   ]
  },
  {
   "cell_type": "markdown",
   "id": "d45459db",
   "metadata": {},
   "source": [
    "### Identity operator\n",
    "- Identity operator tells whether the value is present or not"
   ]
  },
  {
   "cell_type": "code",
   "execution_count": 1,
   "id": "9ec9fb61",
   "metadata": {},
   "outputs": [
    {
     "name": "stdout",
     "output_type": "stream",
     "text": [
      "True\n"
     ]
    }
   ],
   "source": [
    "a=4\n",
    "b=4\n",
    "print(b is a)"
   ]
  },
  {
   "cell_type": "code",
   "execution_count": 19,
   "id": "07eafd98",
   "metadata": {},
   "outputs": [
    {
     "name": "stdout",
     "output_type": "stream",
     "text": [
      "True\n"
     ]
    }
   ],
   "source": [
    "c=8\n",
    "d=8\n",
    "print(d is c)"
   ]
  },
  {
   "cell_type": "code",
   "execution_count": 21,
   "id": "bc9238e9",
   "metadata": {},
   "outputs": [
    {
     "name": "stdout",
     "output_type": "stream",
     "text": [
      "False\n",
      "True\n"
     ]
    },
    {
     "name": "stderr",
     "output_type": "stream",
     "text": [
      "<>:2: SyntaxWarning: \"is\" with a literal. Did you mean \"==\"?\n",
      "<>:2: SyntaxWarning: \"is\" with a literal. Did you mean \"==\"?\n",
      "C:\\Users\\karth\\AppData\\Local\\Temp\\ipykernel_15528\\639824846.py:2: SyntaxWarning: \"is\" with a literal. Did you mean \"==\"?\n",
      "  print(8.7 is z)\n"
     ]
    }
   ],
   "source": [
    "z=8.7\n",
    "print(8.7 is z)\n",
    "\n",
    "## while coming to floats it shows false\n",
    "\n",
    "print(8.7==z)"
   ]
  },
  {
   "cell_type": "code",
   "execution_count": 22,
   "id": "af0bfe42",
   "metadata": {},
   "outputs": [
    {
     "name": "stdout",
     "output_type": "stream",
     "text": [
      "True\n"
     ]
    }
   ],
   "source": [
    "p='p'\n",
    "x='p'\n",
    "print(x is p)\n"
   ]
  },
  {
   "cell_type": "code",
   "execution_count": 27,
   "id": "a5ffde87",
   "metadata": {},
   "outputs": [
    {
     "name": "stdout",
     "output_type": "stream",
     "text": [
      "False\n"
     ]
    }
   ],
   "source": [
    "pu='python'\n",
    "v='pytho'\n",
    "print(v is pu)\n",
    "\n",
    "## in identity operator when comes to strings we have to mention that full string then only it shows true"
   ]
  },
  {
   "cell_type": "markdown",
   "id": "35088183",
   "metadata": {},
   "source": [
    "### Membership operator\n",
    "- They are used to test whether a value or variables is found in a sequence or not"
   ]
  },
  {
   "cell_type": "code",
   "execution_count": 28,
   "id": "998f19cd",
   "metadata": {},
   "outputs": [
    {
     "name": "stdout",
     "output_type": "stream",
     "text": [
      "True\n"
     ]
    }
   ],
   "source": [
    "a=\"python\"\n",
    "print('p' in a)"
   ]
  },
  {
   "cell_type": "code",
   "execution_count": 35,
   "id": "06870c06",
   "metadata": {},
   "outputs": [
    {
     "name": "stdout",
     "output_type": "stream",
     "text": [
      "False\n",
      "True\n"
     ]
    }
   ],
   "source": [
    "print(\"yo\" in a)\n",
    "\n",
    "## it shows only true in sequence the characters are present the starting charcacter is any.\n",
    "\n",
    "print(\"yt\" in a)"
   ]
  },
  {
   "cell_type": "code",
   "execution_count": 38,
   "id": "7b36bdfe",
   "metadata": {},
   "outputs": [
    {
     "name": "stdout",
     "output_type": "stream",
     "text": [
      "True\n",
      "False\n",
      "True\n"
     ]
    }
   ],
   "source": [
    "a=[3,5,6,7]\n",
    "print(5 in a)\n",
    "print(5 not in a)\n",
    "b=[5.6,7.8]\n",
    "print(5.6 in b)"
   ]
  },
  {
   "cell_type": "code",
   "execution_count": 40,
   "id": "954e905c",
   "metadata": {},
   "outputs": [
    {
     "ename": "TypeError",
     "evalue": "argument of type 'float' is not iterable",
     "output_type": "error",
     "traceback": [
      "\u001b[1;31m---------------------------------------------------------------------------\u001b[0m",
      "\u001b[1;31mTypeError\u001b[0m                                 Traceback (most recent call last)",
      "Cell \u001b[1;32mIn[40], line 2\u001b[0m\n\u001b[0;32m      1\u001b[0m g\u001b[38;5;241m=\u001b[39m\u001b[38;5;241m5.6\u001b[39m\n\u001b[1;32m----> 2\u001b[0m \u001b[38;5;28mprint\u001b[39m(\u001b[38;5;241m5.6\u001b[39m \u001b[38;5;129;01min\u001b[39;00m g)\n",
      "\u001b[1;31mTypeError\u001b[0m: argument of type 'float' is not iterable"
     ]
    }
   ],
   "source": [
    "g=5.6\n",
    "print(5.6 in g)\n",
    "\n",
    "## It will perform only on lists, tuple, sets, dictionary"
   ]
  },
  {
   "cell_type": "code",
   "execution_count": 44,
   "id": "853fb90b",
   "metadata": {},
   "outputs": [
    {
     "name": "stdout",
     "output_type": "stream",
     "text": [
      "True\n"
     ]
    }
   ],
   "source": [
    "f='python'\n",
    "print('ho' in f)"
   ]
  },
  {
   "cell_type": "code",
   "execution_count": 45,
   "id": "05d2ae9e",
   "metadata": {},
   "outputs": [
    {
     "ename": "TypeError",
     "evalue": "argument of type 'int' is not iterable",
     "output_type": "error",
     "traceback": [
      "\u001b[1;31m---------------------------------------------------------------------------\u001b[0m",
      "\u001b[1;31mTypeError\u001b[0m                                 Traceback (most recent call last)",
      "Cell \u001b[1;32mIn[45], line 2\u001b[0m\n\u001b[0;32m      1\u001b[0m z\u001b[38;5;241m=\u001b[39m\u001b[38;5;241m3\u001b[39m\n\u001b[1;32m----> 2\u001b[0m \u001b[38;5;28mprint\u001b[39m(\u001b[38;5;241m3\u001b[39m \u001b[38;5;129;01min\u001b[39;00m z)\n",
      "\u001b[1;31mTypeError\u001b[0m: argument of type 'int' is not iterable"
     ]
    }
   ],
   "source": [
    "z=3\n",
    "print(3 in z)"
   ]
  },
  {
   "cell_type": "markdown",
   "id": "c2b95a26",
   "metadata": {},
   "source": [
    "### Bitwise operator\n"
   ]
  },
  {
   "cell_type": "code",
   "execution_count": 46,
   "id": "933dc8c5",
   "metadata": {},
   "outputs": [
    {
     "name": "stdout",
     "output_type": "stream",
     "text": [
      "2016\n"
     ]
    }
   ],
   "source": [
    "print(2025 & 2036)"
   ]
  },
  {
   "cell_type": "code",
   "execution_count": 47,
   "id": "95bedf3e",
   "metadata": {},
   "outputs": [
    {
     "name": "stdout",
     "output_type": "stream",
     "text": [
      "8190\n"
     ]
    }
   ],
   "source": [
    "print(4056 | 5678)"
   ]
  },
  {
   "cell_type": "code",
   "execution_count": 48,
   "id": "506a9d57",
   "metadata": {},
   "outputs": [
    {
     "name": "stdout",
     "output_type": "stream",
     "text": [
      "29\n"
     ]
    }
   ],
   "source": [
    "print(2025 ^ 2036)"
   ]
  },
  {
   "cell_type": "code",
   "execution_count": 51,
   "id": "eae39f04",
   "metadata": {},
   "outputs": [
    {
     "name": "stdout",
     "output_type": "stream",
     "text": [
      "0\n"
     ]
    }
   ],
   "source": [
    "print(2025 >> 2036)"
   ]
  },
  {
   "cell_type": "code",
   "execution_count": 52,
   "id": "7045ebc4",
   "metadata": {},
   "outputs": [
    {
     "name": "stdout",
     "output_type": "stream",
     "text": [
      "15977035472266794380846588206678870292944166969280726358658190793637067054738154067071370326741674747062903777067100461297751979316343778129285524556288518876776739909371219991648962510873790409243656425226498248476685606140455323786064975838724180957746052941985722097618979780363930239851145900445790778975067511014179295264132586411814759088643495232308545451076063588902667978572908236365789465466298501311043895881319643835238442647317097889750363199901710606258527712778176495286485139403573225104028088067829544267204136833109087461520126577621731104608348223694406725929387187298590844749011377822850508390400\n"
     ]
    }
   ],
   "source": [
    "print(2025<< 2036)"
   ]
  },
  {
   "cell_type": "markdown",
   "id": "c29946d5",
   "metadata": {},
   "source": [
    "### Precendence for operators priority\n",
    "\n",
    "- 1. () = paranthesis\n",
    "- 2. ** = Exponential\n",
    "- 3. +*,-*,~* = unary plus,unary minus,bitwise not\n",
    "- 4. * / // % =\n",
    "- 5. + -\n",
    "- 6. <<, >>\n",
    "- 7. & =Bit wise and\n",
    "- 8. | = Bit wise or\n",
    "- 9. ==,!=,>=,<=,>,<, is not, is ,in,in not\n",
    "- 10. Not\n",
    "- 11.And\n",
    "- 12.or\n"
   ]
  },
  {
   "cell_type": "code",
   "execution_count": 10,
   "id": "a3d5cf2e",
   "metadata": {},
   "outputs": [
    {
     "data": {
      "text/plain": [
       "False"
      ]
     },
     "execution_count": 10,
     "metadata": {},
     "output_type": "execute_result"
    }
   ],
   "source": [
    "6**4 & 5 >=8"
   ]
  },
  {
   "cell_type": "code",
   "execution_count": 11,
   "id": "1e5f3005",
   "metadata": {},
   "outputs": [
    {
     "data": {
      "text/plain": [
       "True"
      ]
     },
     "execution_count": 11,
     "metadata": {},
     "output_type": "execute_result"
    }
   ],
   "source": [
    "5**4 | 10>=4"
   ]
  },
  {
   "cell_type": "code",
   "execution_count": 12,
   "id": "58c5029b",
   "metadata": {},
   "outputs": [
    {
     "data": {
      "text/plain": [
       "False"
      ]
     },
     "execution_count": 12,
     "metadata": {},
     "output_type": "execute_result"
    }
   ],
   "source": [
    "7**3 & 23<6"
   ]
  },
  {
   "cell_type": "code",
   "execution_count": 13,
   "id": "b52cd35f",
   "metadata": {},
   "outputs": [
    {
     "data": {
      "text/plain": [
       "True"
      ]
     },
     "execution_count": 13,
     "metadata": {},
     "output_type": "execute_result"
    }
   ],
   "source": [
    "8**2 | 2>5"
   ]
  },
  {
   "cell_type": "code",
   "execution_count": null,
   "id": "907f25ab",
   "metadata": {},
   "outputs": [],
   "source": []
  }
 ],
 "metadata": {
  "kernelspec": {
   "display_name": "Python 3 (ipykernel)",
   "language": "python",
   "name": "python3"
  },
  "language_info": {
   "codemirror_mode": {
    "name": "ipython",
    "version": 3
   },
   "file_extension": ".py",
   "mimetype": "text/x-python",
   "name": "python",
   "nbconvert_exporter": "python",
   "pygments_lexer": "ipython3",
   "version": "3.11.7"
  }
 },
 "nbformat": 4,
 "nbformat_minor": 5
}
