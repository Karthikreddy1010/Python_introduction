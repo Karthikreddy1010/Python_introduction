{
 "cells": [
  {
   "cell_type": "markdown",
   "id": "33065da4",
   "metadata": {},
   "source": [
    "### Loops - Loops will execute until the condition is met"
   ]
  },
  {
   "cell_type": "markdown",
   "id": "efefadd0",
   "metadata": {},
   "source": [
    "### While loop- While loop is used to run a block of code until a certain rules is met.\n",
    "- If the condition evalutes to True, the code inside the while loop is executed.\n",
    "- First we have to intialze the variable"
   ]
  },
  {
   "cell_type": "code",
   "execution_count": 5,
   "id": "9bea6fac",
   "metadata": {},
   "outputs": [
    {
     "name": "stdout",
     "output_type": "stream",
     "text": [
      "2\n",
      "4\n",
      "6\n",
      "8\n",
      "10\n"
     ]
    }
   ],
   "source": [
    "num=2\n",
    "while num<=10:\n",
    "    print(num)\n",
    "    num=num+2\n",
    "    \n",
    "# so, after condition if we use print statement it will run the block met conditions"
   ]
  },
  {
   "cell_type": "code",
   "execution_count": 6,
   "id": "a9d8bdc7",
   "metadata": {},
   "outputs": [
    {
     "name": "stdout",
     "output_type": "stream",
     "text": [
      "20\n",
      "30\n",
      "40\n",
      "50\n",
      "60\n",
      "70\n"
     ]
    }
   ],
   "source": [
    "num=10\n",
    "while num<=60:\n",
    "    num+=10\n",
    "    print(num)\n",
    "    \n",
    "    # so, here we not used print statement after condition so, the results are override the condition"
   ]
  },
  {
   "cell_type": "markdown",
   "id": "231c7f98",
   "metadata": {},
   "source": [
    "###  For loop\n",
    "- The for loop is used for iterating over a sequence of items like list,tuple,string and dictionary.\n",
    "- The loop continues until we reach last item in sequence."
   ]
  },
  {
   "cell_type": "code",
   "execution_count": 7,
   "id": "40b4d1fb",
   "metadata": {},
   "outputs": [
    {
     "name": "stdout",
     "output_type": "stream",
     "text": [
      "num\n",
      "45\n",
      "6.7\n",
      "hello\n"
     ]
    }
   ],
   "source": [
    "# list\n",
    "\n",
    "a=['num',45,6.7,\"hello\"]\n",
    "for i in a:\n",
    "    print(i)"
   ]
  },
  {
   "cell_type": "code",
   "execution_count": 8,
   "id": "b4470e2f",
   "metadata": {},
   "outputs": [
    {
     "name": "stdout",
     "output_type": "stream",
     "text": [
      "P\n",
      "y\n",
      "t\n",
      "h\n",
      "o\n",
      "n\n",
      " \n",
      "i\n",
      "s\n",
      " \n",
      "a\n",
      " \n",
      "l\n",
      "a\n",
      "n\n",
      "g\n",
      "u\n",
      "a\n",
      "g\n",
      "e\n"
     ]
    }
   ],
   "source": [
    "#strings\n",
    "py=\"Python is a language\"\n",
    "for i in py:\n",
    "    print(i)"
   ]
  },
  {
   "cell_type": "code",
   "execution_count": 9,
   "id": "ea5459c0",
   "metadata": {},
   "outputs": [
    {
     "name": "stdout",
     "output_type": "stream",
     "text": [
      "23\n",
      "45\n",
      "67\n",
      "python\n"
     ]
    }
   ],
   "source": [
    "#tuple\n",
    "tup=(23,45,67,\"python\")\n",
    "for i in tup:\n",
    "    print(i)"
   ]
  },
  {
   "cell_type": "code",
   "execution_count": 16,
   "id": "44639d39",
   "metadata": {},
   "outputs": [
    {
     "name": "stdout",
     "output_type": "stream",
     "text": [
      "fruits Apple\n",
      "Rate 100\n",
      "place Jammu\n",
      "fruits Apple\n",
      "Rate 100\n",
      "place Jammu\n"
     ]
    }
   ],
   "source": [
    "#dictionary\n",
    "\n",
    "dic={\"fruits\":\"Apple\",\"Rate\":100,\"place\":\"Jammu\"}\n",
    "\n",
    "for key,values in dic.items():\n",
    "    print(key,values)\n",
    "    \n",
    "for j in dic:\n",
    "    print(j,dic[j])"
   ]
  },
  {
   "cell_type": "markdown",
   "id": "2b8a6122",
   "metadata": {},
   "source": [
    "### 1.write a python program to check given year is leap year or not by using loop"
   ]
  },
  {
   "cell_type": "code",
   "execution_count": 23,
   "id": "8c829cad",
   "metadata": {},
   "outputs": [
    {
     "name": "stdout",
     "output_type": "stream",
     "text": [
      "1990 Non Leap YEar\n",
      "400 Leap Year\n",
      "2000 Leap Year\n",
      "2003 Non Leap YEar\n",
      "2010 Non Leap YEar\n",
      "2024 Leap Year\n",
      "2025 Non Leap YEar\n"
     ]
    }
   ],
   "source": [
    "year=[1990,400,2000,2003,2010,2024,2025]\n",
    "\n",
    "for i in year:\n",
    "    if i%400==0:\n",
    "        print(i,\"Leap Year\")\n",
    "    elif i%4==0:\n",
    "        print(i,\"Leap Year\")\n",
    "    elif i%100==0:\n",
    "        print(i,\"Non Leap Year\")\n",
    "    else:\n",
    "        print(i,\"Non Leap YEar\")"
   ]
  },
  {
   "cell_type": "markdown",
   "id": "2b5f323d",
   "metadata": {},
   "source": [
    "### 2.Write a python program to find a given number even or odd"
   ]
  },
  {
   "cell_type": "code",
   "execution_count": 24,
   "id": "17b55eb2",
   "metadata": {},
   "outputs": [
    {
     "name": "stdout",
     "output_type": "stream",
     "text": [
      "1 odd\n",
      "2 even\n",
      "3 odd\n",
      "4 even\n",
      "5 odd\n",
      "6 even\n"
     ]
    }
   ],
   "source": [
    "num=[1,2,3,4,5,6]\n",
    "\n",
    "for i in num:\n",
    "    if i%2==0:\n",
    "        print(i,\"even\")\n",
    "    else:\n",
    "        print(i,\"odd\")"
   ]
  },
  {
   "cell_type": "markdown",
   "id": "50a689a1",
   "metadata": {},
   "source": [
    "### 3.Write a python program to check if a list is empty or not"
   ]
  },
  {
   "cell_type": "code",
   "execution_count": 30,
   "id": "12303f92",
   "metadata": {},
   "outputs": [],
   "source": [
    "lis =[]\n",
    "\n",
    "for i in lis:\n",
    "    if not  lis:\n",
    "        print(\"yes\")\n",
    "    else:\n",
    "        print(\"Empty list\")\n",
    "        \n",
    "        # yes it is possible but it complex"
   ]
  },
  {
   "cell_type": "markdown",
   "id": "695ffda7",
   "metadata": {},
   "source": [
    "### 4.Write a python program to calculate grade of a student"
   ]
  },
  {
   "cell_type": "code",
   "execution_count": 31,
   "id": "335ca5f2",
   "metadata": {},
   "outputs": [
    {
     "name": "stdout",
     "output_type": "stream",
     "text": [
      "78 Grade C\n",
      "93 Grade A\n",
      "99 Grade A\n",
      "34 Fail\n",
      "66 Grade D\n",
      "83 Grade B\n"
     ]
    }
   ],
   "source": [
    "marks=[78,93,99,34,66,83]\n",
    "\n",
    "for i in marks:\n",
    "    if i>90:\n",
    "        print(i,\"Grade A\")\n",
    "    elif i> 80 and i<=90:\n",
    "        print(i,\"Grade B\")\n",
    "    elif i>70 and i<=80:\n",
    "        print(i,\"Grade C\")\n",
    "    elif i>60 and i<=70:\n",
    "        print(i,\"Grade D\")\n",
    "    elif i>50 and i<=60:\n",
    "        print(i,\"Grade E\")\n",
    "    else:\n",
    "        print(i,\"Fail\")"
   ]
  },
  {
   "cell_type": "markdown",
   "id": "6fdb3a97",
   "metadata": {},
   "source": [
    "### 5.Write a python code to check whether given word is a palindrome or not"
   ]
  },
  {
   "cell_type": "code",
   "execution_count": 32,
   "id": "a1c3d69a",
   "metadata": {},
   "outputs": [
    {
     "name": "stdout",
     "output_type": "stream",
     "text": [
      "mam Palidrome\n",
      "yes Not Palidrome\n",
      "dad Palidrome\n",
      "mom Palidrome\n",
      "sun Not Palidrome\n"
     ]
    }
   ],
   "source": [
    "string=[\"mam\",\"yes\",\"dad\",\"mom\",\"sun\"]\n",
    "\n",
    "for i in string:\n",
    "    i=i.replace(\" \",\" \").lower()\n",
    "    \n",
    "    if i == i[::-1]:\n",
    "        print(i,\"Palidrome\")\n",
    "    else:\n",
    "        print(i,\"Not Palidrome\")"
   ]
  },
  {
   "cell_type": "markdown",
   "id": "94084e88",
   "metadata": {},
   "source": [
    "### 6.Write a python code to find the smallest among the three numbers"
   ]
  },
  {
   "cell_type": "code",
   "execution_count": 35,
   "id": "9093c24e",
   "metadata": {},
   "outputs": [],
   "source": [
    "lis=[23,45,67]\n",
    "\n",
    "num=lis[0]\n",
    "\n",
    "for i in lis:\n",
    "    if i < num:\n",
    "        print(i,\"Smallest number\")"
   ]
  },
  {
   "cell_type": "code",
   "execution_count": 38,
   "id": "77a89efa",
   "metadata": {},
   "outputs": [
    {
     "name": "stdout",
     "output_type": "stream",
     "text": [
      "23 Smallest Number\n"
     ]
    }
   ],
   "source": [
    "lis=[23,67,45]\n",
    "# Assume the first number is the smallest\n",
    "small = lis[0]\n",
    "\n",
    "for i in lis:\n",
    "    if i < small:\n",
    "        small = i\n",
    "\n",
    "# Print the smallest number\n",
    "print(small,\"Smallest Number\")"
   ]
  },
  {
   "cell_type": "markdown",
   "id": "1de1e9b2",
   "metadata": {},
   "source": [
    "### 7. Write a python code to find the second largest number in a list"
   ]
  },
  {
   "cell_type": "code",
   "execution_count": 41,
   "id": "c14a370e",
   "metadata": {},
   "outputs": [
    {
     "name": "stdout",
     "output_type": "stream",
     "text": [
      "1\n",
      "23\n",
      "45\n",
      "67\n",
      "2\n"
     ]
    }
   ],
   "source": [
    "list2=[1,23,45,67,2]\n",
    "\n",
    "for i in list2:\n",
    "\n",
    "    print(i)"
   ]
  },
  {
   "cell_type": "markdown",
   "id": "1e729fd8",
   "metadata": {},
   "source": [
    "### 8.Calculate BMI and categorize it\n",
    "- under weight , over weight , normal weight"
   ]
  },
  {
   "cell_type": "code",
   "execution_count": 43,
   "id": "abf0fcec",
   "metadata": {},
   "outputs": [
    {
     "name": "stdout",
     "output_type": "stream",
     "text": [
      "36.76268861454046\n"
     ]
    }
   ],
   "source": [
    "weight=[56,78,90,45,67]\n",
    "height=[1.65,1.55,1.75,1.22,1.35]\n",
    "\n",
    "for i in weight:\n",
    "    \n",
    "    \n",
    "    for j in height:\n",
    "        \n",
    "        BMI=i/(j**2)\n",
    "print(BMI)"
   ]
  },
  {
   "cell_type": "code",
   "execution_count": 47,
   "id": "e7996a7a",
   "metadata": {},
   "outputs": [
    {
     "name": "stdout",
     "output_type": "stream",
     "text": [
      "20.569329660238754 Normal Weight\n",
      "32.46618106139438 Obesity\n",
      "29.387755102040817 Over Weight\n",
      "30.233808116097823 Obesity\n",
      "36.76268861454046 Obesity\n"
     ]
    }
   ],
   "source": [
    "weight = [56, 78, 90, 45, 67]\n",
    "height = [1.65, 1.55, 1.75, 1.22, 1.35]\n",
    "\n",
    "if len(weight) != len(height):\n",
    "    print(\"Error\")\n",
    "else:\n",
    "    for i in range(len(weight)):\n",
    "        BMI = weight[i] / (height[i] ** 2)  # Calculate BMI for each corresponding weight and height\n",
    "\n",
    "        if BMI<18.5:\n",
    "            print(BMI,\"Under Weight\")\n",
    "        elif BMI>18.5 and BMI<24.9:\n",
    "            print(BMI,\"Normal Weight\")\n",
    "        elif BMI>25 and BMI<29.9:\n",
    "            print(BMI,\"Over Weight\")\n",
    "        else:\n",
    "            print(BMI,\"Obesity\")"
   ]
  },
  {
   "cell_type": "markdown",
   "id": "16f29807",
   "metadata": {},
   "source": [
    "### 9.Write a python code to check vote eligiblity"
   ]
  },
  {
   "cell_type": "code",
   "execution_count": 48,
   "id": "f472fd5e",
   "metadata": {},
   "outputs": [
    {
     "name": "stdout",
     "output_type": "stream",
     "text": [
      "23 Right to vote\n",
      "15 No right to vote\n",
      "67 Right to vote\n",
      "35 Right to vote\n",
      "50 Right to vote\n",
      "12 No right to vote\n",
      "8 No right to vote\n"
     ]
    }
   ],
   "source": [
    "age=[23,15,67,35,50,12,8]\n",
    "\n",
    "for i in age:\n",
    "    if i>=18:\n",
    "        print(i,\"Right to vote\")\n",
    "    else:\n",
    "        print(i,\"No right to vote\")"
   ]
  },
  {
   "cell_type": "markdown",
   "id": "78f52ca8",
   "metadata": {},
   "source": [
    "### 10.Write a python code to find the person which type of group"
   ]
  },
  {
   "cell_type": "code",
   "execution_count": 49,
   "id": "e0ce8248",
   "metadata": {},
   "outputs": [
    {
     "name": "stdout",
     "output_type": "stream",
     "text": [
      "34 Work Group\n",
      "45 Work Group\n",
      "67 Retirement\n",
      "12 School Group\n",
      "23 Work Group\n",
      "45 Work Group\n"
     ]
    }
   ],
   "source": [
    "age=[34,45,67,12,23,45]\n",
    "\n",
    "for i in age:\n",
    "    if i<22 and i>6:\n",
    "        print(i,\"School Group\")\n",
    "    elif i>22 and i<=50:\n",
    "        print(i,\"Work Group\")\n",
    "    elif i>50:\n",
    "        print(i,\"Retirement\")\n",
    "    else:\n",
    "        print(i,\"Childhood\")"
   ]
  },
  {
   "cell_type": "code",
   "execution_count": null,
   "id": "127fac6a",
   "metadata": {},
   "outputs": [],
   "source": []
  }
 ],
 "metadata": {
  "kernelspec": {
   "display_name": "Python 3 (ipykernel)",
   "language": "python",
   "name": "python3"
  },
  "language_info": {
   "codemirror_mode": {
    "name": "ipython",
    "version": 3
   },
   "file_extension": ".py",
   "mimetype": "text/x-python",
   "name": "python",
   "nbconvert_exporter": "python",
   "pygments_lexer": "ipython3",
   "version": "3.11.7"
  }
 },
 "nbformat": 4,
 "nbformat_minor": 5
}
