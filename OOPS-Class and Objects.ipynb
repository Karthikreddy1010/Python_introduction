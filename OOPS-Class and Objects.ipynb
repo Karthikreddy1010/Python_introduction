{
 "cells": [
  {
   "cell_type": "markdown",
   "id": "bba9005c",
   "metadata": {},
   "source": [
    "## OBJECT ORIENTED PROGRAMMING"
   ]
  },
  {
   "cell_type": "markdown",
   "id": "ff915774",
   "metadata": {},
   "source": [
    "### Class \n",
    "\n",
    "- class is a blue print for creating objects\n",
    "- class is defined by class keyword\n"
   ]
  },
  {
   "cell_type": "markdown",
   "id": "a940a2ea",
   "metadata": {},
   "source": [
    "### Object\n",
    "\n",
    "- Object is a real world entity"
   ]
  },
  {
   "cell_type": "code",
   "execution_count": 1,
   "id": "c46a64a8",
   "metadata": {},
   "outputs": [
    {
     "name": "stdout",
     "output_type": "stream",
     "text": [
      "I am Sai and I am 13 years old.\n",
      "Total 100 Students in a school.\n"
     ]
    }
   ],
   "source": [
    "class Students:\n",
    "    def __init__(self, name, age):\n",
    "        self.name = name\n",
    "        self.age = age\n",
    "\n",
    "    def set_total(self, total):\n",
    "        self.total = total\n",
    "\n",
    "# Create an instance with name and age\n",
    "student = Students(\"Sai\", 13)\n",
    "print(f'I am {student.name} and I am {student.age} years old.')\n",
    "\n",
    "# Use the set_total method to define the total\n",
    "student.set_total(100)\n",
    "print(f\"Total {student.total} Students in a school.\")\n"
   ]
  },
  {
   "cell_type": "code",
   "execution_count": 2,
   "id": "66ea7416",
   "metadata": {},
   "outputs": [
    {
     "name": "stdout",
     "output_type": "stream",
     "text": [
      "There are 50 doctors and 25 wards\n",
      "There are total 100 patients in a hospital.\n"
     ]
    }
   ],
   "source": [
    "class Healthcare:\n",
    "    def __init__(self,doctors,wards):\n",
    "        self.doctors=doctors\n",
    "        self.wards=wards\n",
    "    def hospital(self,no_of_patients):\n",
    "        self.no_of_patients=no_of_patients\n",
    "        \n",
    "        \n",
    "hospital1=Healthcare(50,25)\n",
    "print(f\"There are {hospital1.doctors} doctors and {hospital1.wards} wards\")\n",
    "hospital1.hospital(100)\n",
    "print(f\"There are total {hospital1.no_of_patients} patients in a hospital.\")\n",
    "        "
   ]
  },
  {
   "cell_type": "code",
   "execution_count": 3,
   "id": "54f78f82",
   "metadata": {},
   "outputs": [
    {
     "name": "stdout",
     "output_type": "stream",
     "text": [
      "Total no of 100 manufactured by the 500 workers\n",
      "TOtal no of managers5\n"
     ]
    }
   ],
   "source": [
    "class Automobile:\n",
    "    def __init__(self,vechiles,workers):\n",
    "        self.vechiles=vechiles\n",
    "        self.workers=workers\n",
    "    def mobiles(self,managers):\n",
    "        self.managers=managers\n",
    "        \n",
    "    def __str__(self):\n",
    "        return f\"Total no of {self.vechiles} manufactured by the {self.workers} workers\"\n",
    "        \n",
    "ve=Automobile(100,500)\n",
    "ve.mobiles(5)\n",
    "print(ve)\n",
    "print(f\"TOtal no of managers{ve.managers}\")"
   ]
  },
  {
   "cell_type": "markdown",
   "id": "25a7ebbf",
   "metadata": {},
   "source": [
    "### For calling second function we have use object.function\n",
    "\n",
    "#### ve1.mobiles(100)"
   ]
  },
  {
   "cell_type": "code",
   "execution_count": 4,
   "id": "e4c4eb42",
   "metadata": {},
   "outputs": [
    {
     "name": "stdout",
     "output_type": "stream",
     "text": [
      "Total number of projects 25 and sucess of projects 10\n",
      "Total number of engineers worked for manufacturing the flight 10\n"
     ]
    }
   ],
   "source": [
    "class Aerospace:\n",
    "    def __init__(self,projects,sucess):\n",
    "        self.projects=projects\n",
    "        self.sucess=sucess\n",
    "    def engineers(self,eng):\n",
    "        self.eng=eng\n",
    "    def __str__(self):\n",
    "        return f\"Total number of projects {self.projects} and sucess of projects {self.sucess}\"\n",
    "    \n",
    "aer=Aerospace(25,10)\n",
    "aer.engineers(10)\n",
    "print(aer)\n",
    "print(f\"Total number of engineers worked for manufacturing the flight {aer.eng}\")"
   ]
  },
  {
   "cell_type": "code",
   "execution_count": 5,
   "id": "58299328",
   "metadata": {},
   "outputs": [
    {
     "name": "stdout",
     "output_type": "stream",
     "text": [
      "Tourist place is Ooty , it is located in Tamil nadu state.\n",
      "Famous place in ooty is Mountain view.\n"
     ]
    }
   ],
   "source": [
    "class Tourism:\n",
    "    def __init__(self,place,state):\n",
    "        self.place=place\n",
    "        self.state=state\n",
    "    def famous(self,places):\n",
    "        self.places=places\n",
    "        \n",
    "to=Tourism(\"Ooty\",\"Tamil nadu\")\n",
    "print(f\"Tourist place is {to.place} , it is located in {to.state} state.\")\n",
    "to.famous(\"Mountain view\")\n",
    "print(f\"Famous place in ooty is {to.places}.\" )"
   ]
  },
  {
   "cell_type": "code",
   "execution_count": 6,
   "id": "d6c5ecb4",
   "metadata": {},
   "outputs": [
    {
     "name": "stdout",
     "output_type": "stream",
     "text": [
      "Total number of population 1200000000 in a India.\n",
      "Total number of state in a country 28.\n"
     ]
    }
   ],
   "source": [
    "class population:\n",
    "    def __init__(self,population,country):\n",
    "        self.population=population\n",
    "        self.country=country\n",
    "    def states(self,state):\n",
    "        self.state=state\n",
    "    def __str__(self):\n",
    "        return f\"Total number of population {self.population} in a {self.country}.\"\n",
    "po=population(1200000000,\"India\")   \n",
    "po.states(28)\n",
    "print(po)\n",
    "print(f\"Total number of state in a country {po.state}.\")"
   ]
  },
  {
   "cell_type": "code",
   "execution_count": 7,
   "id": "2117ccae",
   "metadata": {},
   "outputs": [
    {
     "name": "stdout",
     "output_type": "stream",
     "text": [
      "Total population: 1200000000 in India.\n",
      "Total number of states in the country: 28.\n"
     ]
    }
   ],
   "source": [
    "class Population:\n",
    "    def __init__(self, population, country):\n",
    "        self.population = population\n",
    "        self.country = country\n",
    "\n",
    "    def set_states(self, state):\n",
    "        self.state = state\n",
    "\n",
    "    def __str__(self):\n",
    "        return f\"Total population: {self.population} in {self.country}.\"\n",
    "\n",
    "# Create an instance of Population\n",
    "po = Population(1200000000, \"India\")   \n",
    "po.set_states(28)\n",
    "\n",
    "# Print population details and the number of states\n",
    "print(po)\n",
    "print(f\"Total number of states in the country: {po.state}.\")\n"
   ]
  },
  {
   "cell_type": "code",
   "execution_count": 10,
   "id": "5530e15c",
   "metadata": {},
   "outputs": [
    {
     "name": "stdout",
     "output_type": "stream",
     "text": [
      "There are 7 continents and 5 oceans in earth.\n",
      "There are 10 in the world\n"
     ]
    }
   ],
   "source": [
    "class world:\n",
    "    def __init__(self,continents,oceans):\n",
    "        self.continents=continents\n",
    "        self.oceans=oceans\n",
    "    def deserts(self,no):\n",
    "        self.no=no\n",
    "        \n",
    "wo=world(7,5)\n",
    "wo.deserts(10)\n",
    "print(f\"There are {wo.continents} continents and {wo.oceans} oceans in earth.\" )\n",
    "\n",
    "print(f\"There are {wo.no} in the world\")"
   ]
  },
  {
   "cell_type": "code",
   "execution_count": 13,
   "id": "cfbbfec1",
   "metadata": {},
   "outputs": [
    {
     "name": "stdout",
     "output_type": "stream",
     "text": [
      "Enter a num:25\n",
      "Enter b num:50\n",
      "Before swapping: 25 50\n",
      "After swapping: 50 25\n"
     ]
    }
   ],
   "source": [
    "class swap:\n",
    "    def __init__(self,a,b):\n",
    "        self.a=a\n",
    "        self.b=b\n",
    "        print(\"Before swapping:\",a,b)\n",
    "        a,b=b,a\n",
    "        print(\"After swapping:\",a,b)\n",
    "        \n",
    "a=int(input(\"Enter a num:\"))\n",
    "b=int(input(\"Enter b num:\"))\n",
    "swaps=swap(a,b)"
   ]
  },
  {
   "cell_type": "code",
   "execution_count": null,
   "id": "76da3145",
   "metadata": {},
   "outputs": [],
   "source": []
  }
 ],
 "metadata": {
  "kernelspec": {
   "display_name": "Python 3 (ipykernel)",
   "language": "python",
   "name": "python3"
  },
  "language_info": {
   "codemirror_mode": {
    "name": "ipython",
    "version": 3
   },
   "file_extension": ".py",
   "mimetype": "text/x-python",
   "name": "python",
   "nbconvert_exporter": "python",
   "pygments_lexer": "ipython3",
   "version": "3.11.7"
  }
 },
 "nbformat": 4,
 "nbformat_minor": 5
}
