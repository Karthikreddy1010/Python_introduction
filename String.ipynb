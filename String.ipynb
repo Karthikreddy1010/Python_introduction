{
 "cells": [
  {
   "cell_type": "markdown",
   "id": "81fe1795",
   "metadata": {},
   "source": [
    "## String - String is a collection of characters\n",
    "- String is defined by signle quotes,double quotes and triple quotes\n",
    "- String is a mutable, we can change characters but not whole string"
   ]
  },
  {
   "cell_type": "code",
   "execution_count": 31,
   "id": "3d8e2ca9",
   "metadata": {},
   "outputs": [
    {
     "name": "stdout",
     "output_type": "stream",
     "text": [
      "Hello\n",
      "Hello\n",
      "Hello,\n",
      "World\n"
     ]
    }
   ],
   "source": [
    "str1='Hello'\n",
    "print(str1)\n",
    "str2=\"Hello\"\n",
    "print(str2)\n",
    "str3=\"\"\"Hello,\n",
    "World\"\"\"\n",
    "print(str3)\n"
   ]
  },
  {
   "cell_type": "code",
   "execution_count": 32,
   "id": "6df907a3",
   "metadata": {},
   "outputs": [
    {
     "name": "stdout",
     "output_type": "stream",
     "text": [
      "<class 'str'>\n",
      "<class 'str'>\n",
      "<class 'str'>\n"
     ]
    }
   ],
   "source": [
    "print(type(str1))\n",
    "print(type(str2))\n",
    "print(type(str3))"
   ]
  },
  {
   "cell_type": "code",
   "execution_count": 33,
   "id": "df110d8a",
   "metadata": {},
   "outputs": [
    {
     "name": "stdout",
     "output_type": "stream",
     "text": [
      "Python is important for Data science\n"
     ]
    }
   ],
   "source": [
    "# adding two strings\n",
    "program=\"Python is important\"\n",
    "data=\"for Data science\"\n",
    "print(program+\" \"+data)"
   ]
  },
  {
   "cell_type": "code",
   "execution_count": 34,
   "id": "8dd02dfa",
   "metadata": {},
   "outputs": [
    {
     "name": "stdout",
     "output_type": "stream",
     "text": [
      "Python is a programming language. \n",
      "Python is a programming language. \n",
      "Python is a programming language. \n",
      "Python is a programming language. \n",
      "Python is a programming language. \n",
      "\n"
     ]
    }
   ],
   "source": [
    "# Concentatae\n",
    "\n",
    "abc=\"Python is a programming language. \\n\"\n",
    "print(abc*5)"
   ]
  },
  {
   "cell_type": "code",
   "execution_count": 35,
   "id": "21e148f9",
   "metadata": {},
   "outputs": [
    {
     "name": "stdout",
     "output_type": "stream",
     "text": [
      "Length of abc: 35\n"
     ]
    }
   ],
   "source": [
    "print(\"Length of abc:\",len(abc))"
   ]
  },
  {
   "cell_type": "code",
   "execution_count": 36,
   "id": "2533a6ed",
   "metadata": {},
   "outputs": [
    {
     "name": "stdout",
     "output_type": "stream",
     "text": [
      "o\n"
     ]
    }
   ],
   "source": [
    "# accessing of string\n",
    "print(abc[4])"
   ]
  },
  {
   "cell_type": "code",
   "execution_count": 37,
   "id": "133165f6",
   "metadata": {},
   "outputs": [
    {
     "name": "stdout",
     "output_type": "stream",
     "text": [
      "on is a programming language. \n",
      "\n",
      "n is a programm\n"
     ]
    }
   ],
   "source": [
    "print(abc[4:])\n",
    "print(abc[5:20])"
   ]
  },
  {
   "cell_type": "code",
   "execution_count": 38,
   "id": "b321a329",
   "metadata": {},
   "outputs": [
    {
     "name": "stdout",
     "output_type": "stream",
     "text": [
      "Python is a programming language. \n",
      "\n"
     ]
    }
   ],
   "source": [
    "print(abc[:35])"
   ]
  },
  {
   "cell_type": "code",
   "execution_count": 39,
   "id": "31bf48d5",
   "metadata": {},
   "outputs": [
    {
     "name": "stdout",
     "output_type": "stream",
     "text": [
      " languag\n"
     ]
    }
   ],
   "source": [
    "program=\"Python is a language\"\n",
    "a=program[-9:-1]\n",
    "print(a)"
   ]
  },
  {
   "cell_type": "code",
   "execution_count": 40,
   "id": "e249db74",
   "metadata": {},
   "outputs": [
    {
     "name": "stdout",
     "output_type": "stream",
     "text": [
      "P\n",
      "y\n",
      "t\n",
      "h\n",
      "o\n",
      "n\n",
      " \n",
      "i\n",
      "s\n",
      " \n",
      "a\n",
      " \n",
      "p\n",
      "r\n",
      "o\n",
      "g\n",
      "r\n",
      "a\n",
      "m\n",
      "m\n",
      "i\n",
      "n\n",
      "g\n",
      " \n",
      "l\n",
      "a\n",
      "n\n",
      "g\n",
      "u\n",
      "a\n",
      "g\n",
      "e\n",
      ".\n",
      " \n",
      "\n",
      "\n"
     ]
    }
   ],
   "source": [
    "for i in abc:\n",
    "    print(i)"
   ]
  },
  {
   "cell_type": "markdown",
   "id": "917598d9",
   "metadata": {},
   "source": [
    "### String formats\n",
    "1. Old style formatting = %s -string and %d- int\n",
    "2. Format method - defined by {}\n",
    "3. String interpolation (f-strings)"
   ]
  },
  {
   "cell_type": "code",
   "execution_count": 41,
   "id": "7c7f5ea7",
   "metadata": {},
   "outputs": [
    {
     "name": "stdout",
     "output_type": "stream",
     "text": [
      "Dhoni is a Captain for chennai super kings and won 5 trophies.\n"
     ]
    }
   ],
   "source": [
    "position=\"Captain\"\n",
    "trophies=5\n",
    "print(\"Dhoni is a %s for chennai super kings and won %d trophies.\"%(position,trophies))\n"
   ]
  },
  {
   "cell_type": "code",
   "execution_count": 42,
   "id": "90770cf6",
   "metadata": {},
   "outputs": [
    {
     "name": "stdout",
     "output_type": "stream",
     "text": [
      "Dhoni is a Captain for chennai super kings and won 5 trophies.\n"
     ]
    }
   ],
   "source": [
    "print(f\"Dhoni is a {position} for chennai super kings and won {trophies} trophies.\")"
   ]
  },
  {
   "cell_type": "markdown",
   "id": "29065d93",
   "metadata": {},
   "source": [
    "### Strings - methods"
   ]
  },
  {
   "cell_type": "code",
   "execution_count": 43,
   "id": "e3a1370c",
   "metadata": {},
   "outputs": [
    {
     "name": "stdout",
     "output_type": "stream",
     "text": [
      "Length of string: 52\n",
      "upper: DHONI IS A CAPTAIN FOR 12 SEASONS AND WON 5 TROHIES.\n",
      "Lower: dhoni is a captain for 12 seasons and won 5 trohies.\n"
     ]
    }
   ],
   "source": [
    "csk=\"Dhoni is a captain for 12 seasons and won 5 trohies.\"\n",
    "print(\"Length of string:\",len(csk))\n",
    "\n",
    "print(\"upper:\",csk.upper())\n",
    "print(\"Lower:\",csk.lower())"
   ]
  },
  {
   "cell_type": "code",
   "execution_count": 44,
   "id": "0abc82c8",
   "metadata": {},
   "outputs": [
    {
     "name": "stdout",
     "output_type": "stream",
     "text": [
      "strip of string: Dhoni is a captain for 12 seasons and won 5 trohies.\n"
     ]
    }
   ],
   "source": [
    "csk=\"  Dhoni is a captain for 12 seasons and won 5 trohies.  \"\n",
    "print(\"strip of string:\",csk.strip())\n"
   ]
  },
  {
   "cell_type": "code",
   "execution_count": 71,
   "id": "d78bf40a",
   "metadata": {},
   "outputs": [
    {
     "name": "stdout",
     "output_type": "stream",
     "text": [
      "('subsplits of string:', ['Dhoni', 'is', 'a', 'captain', 'for', '12', 'seasons', 'and', 'won', '5', 'trohies.'])\n",
      "<class 'str'>\n",
      "<class 'tuple'>\n"
     ]
    }
   ],
   "source": [
    "csk=\"Dhoni is a captain for 12 seasons and won 5 trohies.\"\n",
    "p=\"subsplits of string:\",csk.split()\n",
    "print(p)\n",
    "print(type(csk))\n",
    "print(type(p))"
   ]
  },
  {
   "cell_type": "code",
   "execution_count": 72,
   "id": "975e5c52",
   "metadata": {},
   "outputs": [
    {
     "ename": "TypeError",
     "evalue": "sequence item 1: expected str instance, list found",
     "output_type": "error",
     "traceback": [
      "\u001b[1;31m---------------------------------------------------------------------------\u001b[0m",
      "\u001b[1;31mTypeError\u001b[0m                                 Traceback (most recent call last)",
      "Cell \u001b[1;32mIn[72], line 3\u001b[0m\n\u001b[0;32m      1\u001b[0m \u001b[38;5;66;03m# Join\u001b[39;00m\n\u001b[1;32m----> 3\u001b[0m v\u001b[38;5;241m=\u001b[39m\u001b[38;5;124m\"\u001b[39m\u001b[38;5;124m#\u001b[39m\u001b[38;5;124m\"\u001b[39m\u001b[38;5;241m.\u001b[39mjoin(p)\n\u001b[0;32m      4\u001b[0m v\n",
      "\u001b[1;31mTypeError\u001b[0m: sequence item 1: expected str instance, list found"
     ]
    }
   ],
   "source": [
    "# Join\n",
    "\n",
    "v=\"#\".join(p)\n",
    "v"
   ]
  },
  {
   "cell_type": "code",
   "execution_count": 46,
   "id": "8f32ecc8",
   "metadata": {},
   "outputs": [
    {
     "name": "stdout",
     "output_type": "stream",
     "text": [
      "capitalize: Dhoni is a captain for 12 seasons and won 5 trohies.\n"
     ]
    }
   ],
   "source": [
    "print(\"capitalize:\",csk.capitalize()) # %%capitalize"
   ]
  },
  {
   "cell_type": "markdown",
   "id": "8cfa4a2d",
   "metadata": {},
   "source": [
    "### Casefold is similar to lower but casefold is strnger"
   ]
  },
  {
   "cell_type": "code",
   "execution_count": 49,
   "id": "b4d9cc74",
   "metadata": {},
   "outputs": [
    {
     "name": "stdout",
     "output_type": "stream",
     "text": [
      "dhoni is a captain for 12 seasons and won a 5 trohies.\n"
     ]
    }
   ],
   "source": [
    "csk=\"Dhoni is a captain for 12 seasons and won a 5 trohies.\"\n",
    "z=csk.casefold() # Replace\n",
    "print(z)\n",
    "\n"
   ]
  },
  {
   "cell_type": "code",
   "execution_count": 53,
   "id": "3b746b9b",
   "metadata": {},
   "outputs": [
    {
     "name": "stdout",
     "output_type": "stream",
     "text": [
      "       Apple        \n",
      "0000000Apple00000000\n"
     ]
    }
   ],
   "source": [
    "## Center it will place the string in center\n",
    "\n",
    "fruit=\"Apple\"\n",
    "print(fruit.center(20))\n",
    "\n",
    "## 20 values means the 20 spaces \n",
    "\n",
    "print(fruit.center(20,\"0\"))\n",
    "\n",
    "## \"0\" means the spaces is filled with 0 or any number or character"
   ]
  },
  {
   "cell_type": "code",
   "execution_count": 58,
   "id": "61ceb110",
   "metadata": {},
   "outputs": [
    {
     "name": "stdout",
     "output_type": "stream",
     "text": [
      "True\n"
     ]
    }
   ],
   "source": [
    "## Ends with - if the character is end with specify character then its shows True\n",
    "\n",
    "print(fruit.endswith(\"e\"))"
   ]
  },
  {
   "cell_type": "code",
   "execution_count": 62,
   "id": "ec47a6f1",
   "metadata": {},
   "outputs": [
    {
     "name": "stdout",
     "output_type": "stream",
     "text": [
      "6\n"
     ]
    }
   ],
   "source": [
    "\"\"\"Find the values or characters in a string and returns\n",
    "the position of string\"\"\"\n",
    "print(csk.find(\"is\"))"
   ]
  },
  {
   "cell_type": "code",
   "execution_count": 64,
   "id": "7b5877c3",
   "metadata": {},
   "outputs": [
    {
     "name": "stdout",
     "output_type": "stream",
     "text": [
      "Alpha Numeric: True\n",
      "Alpha Numeric: False\n"
     ]
    }
   ],
   "source": [
    "# isalnum\n",
    "print(\"Alpha Numeric:\",fruit.isalnum())\n",
    "print(\"Alpha Numeric:\",csk.isalnum())"
   ]
  },
  {
   "cell_type": "code",
   "execution_count": 65,
   "id": "1a3e2203",
   "metadata": {},
   "outputs": [
    {
     "name": "stdout",
     "output_type": "stream",
     "text": [
      "Alpha Numeric: True\n",
      "Alpha Numeric: False\n"
     ]
    }
   ],
   "source": [
    "print(\"Alpha Numeric:\",fruit.isalpha())\n",
    "print(\"Alpha Numeric:\",csk.isalpha())"
   ]
  },
  {
   "cell_type": "code",
   "execution_count": 66,
   "id": "9aaf5ca9",
   "metadata": {},
   "outputs": [
    {
     "name": "stdout",
     "output_type": "stream",
     "text": [
      "is digit: False\n",
      "Alpha Numeric: False\n"
     ]
    }
   ],
   "source": [
    "print(\"is digit:\",fruit.isdigit())\n",
    "print(\"Alpha Numeric:\",csk.isdigit())  # isdigit()"
   ]
  },
  {
   "cell_type": "code",
   "execution_count": 67,
   "id": "48ab198c",
   "metadata": {},
   "outputs": [
    {
     "name": "stdout",
     "output_type": "stream",
     "text": [
      "Title: Dhoni Is A Captain For 12 Seasons And Won A 5 Trohies.\n"
     ]
    }
   ],
   "source": [
    "print(\"Title:\",csk.title()) # title"
   ]
  },
  {
   "cell_type": "code",
   "execution_count": 73,
   "id": "e4ce7982",
   "metadata": {},
   "outputs": [
    {
     "name": "stdout",
     "output_type": "stream",
     "text": [
      "isupper: False\n"
     ]
    }
   ],
   "source": [
    "# isupper \n",
    "print(\"isupper:\",csk.isupper())"
   ]
  },
  {
   "cell_type": "code",
   "execution_count": 75,
   "id": "1142a205",
   "metadata": {},
   "outputs": [
    {
     "name": "stdout",
     "output_type": "stream",
     "text": [
      "Egg contains fat.\n",
      "Ghee contains fat.\n"
     ]
    }
   ],
   "source": [
    "# Replace \n",
    "\n",
    "fat=\"Egg contains fat.\"\n",
    "print(fat)\n",
    "print(fat.replace(\"Egg\",\"Ghee\"))"
   ]
  },
  {
   "cell_type": "code",
   "execution_count": 77,
   "id": "8b8ace1e",
   "metadata": {},
   "outputs": [
    {
     "name": "stdout",
     "output_type": "stream",
     "text": [
      "find: 4\n"
     ]
    }
   ],
   "source": [
    "print(\"find:\",fat.rfind(\"c\"))"
   ]
  },
  {
   "cell_type": "code",
   "execution_count": null,
   "id": "60720912",
   "metadata": {},
   "outputs": [],
   "source": []
  }
 ],
 "metadata": {
  "kernelspec": {
   "display_name": "Python 3 (ipykernel)",
   "language": "python",
   "name": "python3"
  },
  "language_info": {
   "codemirror_mode": {
    "name": "ipython",
    "version": 3
   },
   "file_extension": ".py",
   "mimetype": "text/x-python",
   "name": "python",
   "nbconvert_exporter": "python",
   "pygments_lexer": "ipython3",
   "version": "3.11.7"
  }
 },
 "nbformat": 4,
 "nbformat_minor": 5
}
