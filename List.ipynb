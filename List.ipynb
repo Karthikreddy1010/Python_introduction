{
 "cells": [
  {
   "cell_type": "markdown",
   "id": "7aa03edb",
   "metadata": {},
   "source": [
    "## List\n",
    "- List is a collection of different kinds of values or items\n",
    "- List is a mutable datatype - we can modify the values\n",
    "- The list are in order\n",
    "- The list is defined by [] and comma\n",
    "- Lists accepts duplicates values"
   ]
  },
  {
   "cell_type": "code",
   "execution_count": 74,
   "id": "7f1cf216",
   "metadata": {},
   "outputs": [
    {
     "name": "stdout",
     "output_type": "stream",
     "text": [
      "[1, 2, 3, 4, 7]\n",
      "<class 'list'>\n"
     ]
    }
   ],
   "source": [
    "int_lis=[1,2,3,4,7]\n",
    "print(int_lis)\n",
    "print(type(int_lis))"
   ]
  },
  {
   "cell_type": "code",
   "execution_count": 75,
   "id": "461aed8c",
   "metadata": {},
   "outputs": [
    {
     "name": "stdout",
     "output_type": "stream",
     "text": [
      "[3.4, 5.6, 8.9]\n",
      "<class 'list'>\n"
     ]
    }
   ],
   "source": [
    "float_lis=[3.4,5.6,8.9]\n",
    "print(float_lis)\n",
    "print(type(float_lis))"
   ]
  },
  {
   "cell_type": "code",
   "execution_count": 76,
   "id": "f102e2d9",
   "metadata": {},
   "outputs": [
    {
     "name": "stdout",
     "output_type": "stream",
     "text": [
      "['Radar', 'maps', 'Globe']\n",
      "<class 'list'>\n"
     ]
    }
   ],
   "source": [
    "str_lis=[\"Radar\",\"maps\",\"Globe\"]\n",
    "print(str_lis)\n",
    "print(type(str_lis))"
   ]
  },
  {
   "cell_type": "code",
   "execution_count": 77,
   "id": "4b1ebbf6",
   "metadata": {},
   "outputs": [
    {
     "name": "stdout",
     "output_type": "stream",
     "text": [
      "[45, 89, 9.0, 'Radar', 'R']\n",
      "<class 'list'>\n"
     ]
    }
   ],
   "source": [
    "mixed_lis=[45,89,9.0,\"Radar\",\"R\"]\n",
    "print(mixed_lis)\n",
    "print(type(mixed_lis))"
   ]
  },
  {
   "cell_type": "markdown",
   "id": "6793a4ad",
   "metadata": {},
   "source": [
    "### Accessing the lists\n",
    "- By using index and slicing we can access the values\n",
    "- slicing [start:end] the end values will be n-1"
   ]
  },
  {
   "cell_type": "code",
   "execution_count": 78,
   "id": "4eb7baa2",
   "metadata": {},
   "outputs": [
    {
     "data": {
      "text/plain": [
       "[1, 2, 3, 4, 5, 6, 7, 8, 9, 10, 11, 12, 13, 14, 15]"
      ]
     },
     "execution_count": 78,
     "metadata": {},
     "output_type": "execute_result"
    }
   ],
   "source": [
    "li0=[1,2,3,4,5,6,7,8,9,10,11,12,13,14,15]\n",
    "li0[:15]\n"
   ]
  },
  {
   "cell_type": "code",
   "execution_count": 79,
   "id": "6e1de85e",
   "metadata": {},
   "outputs": [
    {
     "data": {
      "text/plain": [
       "[1, 2, 3, 4, 5, 6, 7, 8, 9, 10, 11, 12, 13, 14, 15]"
      ]
     },
     "execution_count": 79,
     "metadata": {},
     "output_type": "execute_result"
    }
   ],
   "source": [
    "li0[0:15]"
   ]
  },
  {
   "cell_type": "code",
   "execution_count": 80,
   "id": "48b30f3a",
   "metadata": {},
   "outputs": [
    {
     "data": {
      "text/plain": [
       "[1, 2, 3, 4, 5, 6, 7, 8, 9, 10, 11, 12, 13, 14, 15]"
      ]
     },
     "execution_count": 80,
     "metadata": {},
     "output_type": "execute_result"
    }
   ],
   "source": [
    "li0[-15:]"
   ]
  },
  {
   "cell_type": "code",
   "execution_count": 81,
   "id": "bd6bdb78",
   "metadata": {},
   "outputs": [
    {
     "data": {
      "text/plain": [
       "[1, 2, 3, 4, 5, 6, 7, 8, 9, 10, 11, 12, 13, 14]"
      ]
     },
     "execution_count": 81,
     "metadata": {},
     "output_type": "execute_result"
    }
   ],
   "source": [
    "li0[-15:-1]"
   ]
  },
  {
   "cell_type": "code",
   "execution_count": 82,
   "id": "68bb9b4e",
   "metadata": {},
   "outputs": [
    {
     "name": "stdout",
     "output_type": "stream",
     "text": [
      "[1, 2, 89, 4, 5, 6, 7, 8, 9, 10, 11, 12, 13, 14, 15]\n"
     ]
    }
   ],
   "source": [
    "li0[2]=89\n",
    "print(li0)"
   ]
  },
  {
   "cell_type": "code",
   "execution_count": 83,
   "id": "626e4e4a",
   "metadata": {},
   "outputs": [
    {
     "name": "stdout",
     "output_type": "stream",
     "text": [
      "[1, 2, 89, 4, 5, 99, 7, 8, 9, 10, 11, 12, 13, 14, 15]\n"
     ]
    }
   ],
   "source": [
    "li0[5]=99\n",
    "print(li0)\n"
   ]
  },
  {
   "cell_type": "code",
   "execution_count": 84,
   "id": "fb2a7350",
   "metadata": {},
   "outputs": [
    {
     "name": "stdout",
     "output_type": "stream",
     "text": [
      "[1, 2, 89, 4, 5, 99, 7, 8, 9, 10, 11, 12, 13, 100, 15]\n"
     ]
    }
   ],
   "source": [
    "li0[13]=100\n",
    "print(li0)\n"
   ]
  },
  {
   "cell_type": "code",
   "execution_count": 85,
   "id": "ae554aa5",
   "metadata": {},
   "outputs": [
    {
     "name": "stdout",
     "output_type": "stream",
     "text": [
      "[1, 2, 89, 4, 5, 99, 7, 8, 9, 10, 2, 3, 4, 5, 15]\n"
     ]
    }
   ],
   "source": [
    "li0[10:14]=2,3,4,5\n",
    "print(li0)"
   ]
  },
  {
   "cell_type": "code",
   "execution_count": 86,
   "id": "2fd22a61",
   "metadata": {},
   "outputs": [
    {
     "name": "stdout",
     "output_type": "stream",
     "text": [
      "3\n",
      "map\n",
      "[3, 56]\n"
     ]
    }
   ],
   "source": [
    "li=[3,56,8.9,\"map\"]\n",
    "print(li[0])\n",
    "print(li[3])\n",
    "print(li[0:2])"
   ]
  },
  {
   "cell_type": "code",
   "execution_count": 87,
   "id": "e6ba0e81",
   "metadata": {},
   "outputs": [
    {
     "name": "stdout",
     "output_type": "stream",
     "text": [
      "['c', 'd', 'e']\n"
     ]
    }
   ],
   "source": [
    "li1=['a','b','c','d','e',67,89,91]\n",
    "print(li1[2:5])"
   ]
  },
  {
   "cell_type": "code",
   "execution_count": 88,
   "id": "a04925ac",
   "metadata": {},
   "outputs": [
    {
     "name": "stdout",
     "output_type": "stream",
     "text": [
      "['python', 'java', 'html']\n"
     ]
    }
   ],
   "source": [
    "li2=['python','java','html','javascript']\n",
    "print(li2[0:3])"
   ]
  },
  {
   "cell_type": "code",
   "execution_count": 89,
   "id": "1ef30ec9",
   "metadata": {},
   "outputs": [
    {
     "name": "stdout",
     "output_type": "stream",
     "text": [
      "['python', 'java', 'css', 'javascript']\n"
     ]
    }
   ],
   "source": [
    "#Updation\n",
    "li2[2]=\"css\"\n",
    "print(li2)"
   ]
  },
  {
   "cell_type": "code",
   "execution_count": 90,
   "id": "1ebb6892",
   "metadata": {},
   "outputs": [
    {
     "name": "stdout",
     "output_type": "stream",
     "text": [
      "[1, 3, 5, 6, 7, 8, 9, 10, 11, 12]\n"
     ]
    }
   ],
   "source": [
    "## Adding two lists\n",
    "\n",
    "li11=[1,3,5,6,7]\n",
    "li12=[8,9,10,11,12]\n",
    "print(li11+li12)"
   ]
  },
  {
   "cell_type": "code",
   "execution_count": 91,
   "id": "020ce5f1",
   "metadata": {},
   "outputs": [
    {
     "name": "stdout",
     "output_type": "stream",
     "text": [
      "[1, 3, 5, 6, 7, 1, 3, 5, 6, 7]\n"
     ]
    }
   ],
   "source": [
    "## concatenation\n",
    "\n",
    "print(li11*2)"
   ]
  },
  {
   "cell_type": "code",
   "execution_count": 92,
   "id": "ab8339f2",
   "metadata": {},
   "outputs": [
    {
     "name": "stdout",
     "output_type": "stream",
     "text": [
      "15\n",
      "\n"
     ]
    }
   ],
   "source": [
    "## length it will give length of lis\n",
    "print(len(li0))\n",
    "print()"
   ]
  },
  {
   "cell_type": "markdown",
   "id": "3fc3f03f",
   "metadata": {},
   "source": [
    "### Append - It is a function it will add numbers at end of list"
   ]
  },
  {
   "cell_type": "code",
   "execution_count": 93,
   "id": "01e7a112",
   "metadata": {},
   "outputs": [
    {
     "name": "stdout",
     "output_type": "stream",
     "text": [
      "Initial list: [1, 2, 89, 4, 5, 99, 7, 8, 9, 10, 2, 3, 4, 5, 15]\n",
      "Updated list: [1, 2, 89, 4, 5, 99, 7, 8, 9, 10, 2, 3, 4, 5, 15, 99]\n"
     ]
    }
   ],
   "source": [
    "print(\"Initial list:\",li0)\n",
    "li0.append(99)\n",
    "print(\"Updated list:\",li0)"
   ]
  },
  {
   "cell_type": "markdown",
   "id": "1a19cf1e",
   "metadata": {},
   "source": [
    "### Extend - By using this function we can add multiples values to list"
   ]
  },
  {
   "cell_type": "code",
   "execution_count": 94,
   "id": "c870161d",
   "metadata": {},
   "outputs": [
    {
     "name": "stdout",
     "output_type": "stream",
     "text": [
      "Initial list: [1, 2, 89, 4, 5, 99, 7, 8, 9, 10, 2, 3, 4, 5, 15, 99]\n",
      "Updated list: [1, 2, 89, 4, 5, 99, 7, 8, 9, 10, 2, 3, 4, 5, 15, 99, 34, 56, 78, 89]\n"
     ]
    }
   ],
   "source": [
    "print(\"Initial list:\",li0)\n",
    "li23=[34,56,78,89]\n",
    "li0.extend(li23)\n",
    "print(\"Updated list:\",li0)"
   ]
  },
  {
   "cell_type": "markdown",
   "id": "aad1ba17",
   "metadata": {},
   "source": [
    "### Insert - By using this function we can add values at specificy position in a list"
   ]
  },
  {
   "cell_type": "code",
   "execution_count": 95,
   "id": "4f1d7c35",
   "metadata": {},
   "outputs": [
    {
     "name": "stdout",
     "output_type": "stream",
     "text": [
      "Initial list: [1, 2, 89, 4, 5, 99, 7, 8, 9, 10, 2, 3, 4, 5, 15, 99, 34, 56, 78, 89]\n",
      "Updated list: [1, 2, 89, 4, 999, 5, 99, 7, 8, 9, 10, 2, 3, 4, 5, 15, 99, 34, 56, 78, 89]\n"
     ]
    }
   ],
   "source": [
    "print(\"Initial list:\",li0)\n",
    "li0.insert(4,999)\n",
    "print(\"Updated list:\",li0)"
   ]
  },
  {
   "cell_type": "markdown",
   "id": "516cf8e4",
   "metadata": {},
   "source": [
    "### Remove- By using this function we can remove values of first occurences"
   ]
  },
  {
   "cell_type": "code",
   "execution_count": 96,
   "id": "563c2f45",
   "metadata": {},
   "outputs": [
    {
     "name": "stdout",
     "output_type": "stream",
     "text": [
      "Initial list: [1, 2, 89, 4, 999, 5, 99, 7, 8, 9, 10, 2, 3, 4, 5, 15, 99, 34, 56, 78, 89]\n",
      "Initial list length: 21\n",
      "Updated list: [1, 2, 89, 4, 999, 5, 7, 8, 9, 10, 2, 3, 4, 5, 15, 99, 34, 56, 78, 89]\n",
      "Updated list length: 20\n"
     ]
    }
   ],
   "source": [
    "print(\"Initial list:\",li0)\n",
    "print(\"Initial list length:\",len(li0))\n",
    "li0.remove(99)\n",
    "print(\"Updated list:\",li0)\n",
    "print(\"Updated list length:\",len(li0))\n"
   ]
  },
  {
   "cell_type": "markdown",
   "id": "49de4292",
   "metadata": {},
   "source": [
    "### Pop- By using this function we can remove the values at specificy position"
   ]
  },
  {
   "cell_type": "code",
   "execution_count": 97,
   "id": "f5aa150c",
   "metadata": {},
   "outputs": [
    {
     "name": "stdout",
     "output_type": "stream",
     "text": [
      "Initial list: [1, 2, 89, 4, 999, 5, 7, 8, 9, 10, 2, 3, 4, 5, 15, 99, 34, 56, 78, 89]\n",
      "Initial list length: 20\n",
      "Updated list: [1, 2, 89, 4, 5, 7, 8, 9, 10, 2, 3, 4, 5, 15, 99, 34, 56, 78, 89]\n",
      "Updated list length: 19\n"
     ]
    }
   ],
   "source": [
    "print(\"Initial list:\",li0)\n",
    "print(\"Initial list length:\",len(li0))\n",
    "li0.pop(4)\n",
    "print(\"Updated list:\",li0)\n",
    "print(\"Updated list length:\",len(li0))\n"
   ]
  },
  {
   "cell_type": "markdown",
   "id": "06216a4b",
   "metadata": {},
   "source": [
    "### Count- it will count the number of values in a list\n",
    "\n",
    "### Sort- It will sort the values in ascending order\n",
    "\n",
    "### Reverse-It will reverse the values in a list"
   ]
  },
  {
   "cell_type": "code",
   "execution_count": 98,
   "id": "4a14143c",
   "metadata": {},
   "outputs": [
    {
     "name": "stdout",
     "output_type": "stream",
     "text": [
      "Count of a list: 2\n"
     ]
    }
   ],
   "source": [
    "c=li0.count(5)\n",
    "print(\"Count of a list:\",c)"
   ]
  },
  {
   "cell_type": "code",
   "execution_count": 99,
   "id": "72a2f528",
   "metadata": {},
   "outputs": [
    {
     "name": "stdout",
     "output_type": "stream",
     "text": [
      "[1, 2, 2, 3, 4, 4, 5, 5, 7, 8, 9, 10, 15, 34, 56, 78, 89, 89, 99]\n"
     ]
    }
   ],
   "source": [
    "## Sort of a list\n",
    "li0.sort()\n",
    "print(li0)"
   ]
  },
  {
   "cell_type": "code",
   "execution_count": 100,
   "id": "a402ad74",
   "metadata": {},
   "outputs": [
    {
     "name": "stdout",
     "output_type": "stream",
     "text": [
      "[99, 89, 89, 78, 56, 34, 15, 10, 9, 8, 7, 5, 5, 4, 4, 3, 2, 2, 1]\n"
     ]
    }
   ],
   "source": [
    "## REverse of a list\n",
    "\n",
    "li0.reverse()\n",
    "print(li0)"
   ]
  },
  {
   "cell_type": "markdown",
   "id": "7e326da6",
   "metadata": {},
   "source": [
    "### Membership"
   ]
  },
  {
   "cell_type": "code",
   "execution_count": 101,
   "id": "74312a69",
   "metadata": {},
   "outputs": [
    {
     "name": "stdout",
     "output_type": "stream",
     "text": [
      "False\n"
     ]
    }
   ],
   "source": [
    "new=[1,2,67,8.9,\"dhoni7\"]\n",
    "new_b=[1,2,6,8,\"watson\"]\n",
    "print(new in new_b)"
   ]
  },
  {
   "cell_type": "code",
   "execution_count": 102,
   "id": "d955fd29",
   "metadata": {},
   "outputs": [
    {
     "name": "stdout",
     "output_type": "stream",
     "text": [
      "False\n"
     ]
    }
   ],
   "source": [
    "print(new == new_b)"
   ]
  },
  {
   "cell_type": "code",
   "execution_count": 103,
   "id": "aacb8cc6",
   "metadata": {},
   "outputs": [
    {
     "name": "stdout",
     "output_type": "stream",
     "text": [
      "True\n"
     ]
    }
   ],
   "source": [
    "new_a=[1,2,3,4,5,67]\n",
    "new_c=[1,2,3,4,5,67]\n",
    "print(3 in new_a)"
   ]
  },
  {
   "cell_type": "code",
   "execution_count": 104,
   "id": "c049da01",
   "metadata": {},
   "outputs": [
    {
     "name": "stdout",
     "output_type": "stream",
     "text": [
      "True\n"
     ]
    }
   ],
   "source": [
    "print(new_a == new_c)"
   ]
  },
  {
   "cell_type": "markdown",
   "id": "13a11e58",
   "metadata": {},
   "source": [
    "### Iteration - the loop is used to iterate over the list elements"
   ]
  },
  {
   "cell_type": "code",
   "execution_count": 105,
   "id": "2b99337c",
   "metadata": {},
   "outputs": [
    {
     "name": "stdout",
     "output_type": "stream",
     "text": [
      "99\n",
      "89\n",
      "89\n",
      "78\n",
      "56\n",
      "34\n",
      "15\n",
      "10\n",
      "9\n",
      "8\n",
      "7\n",
      "5\n",
      "5\n",
      "4\n",
      "4\n",
      "3\n",
      "2\n",
      "2\n",
      "1\n"
     ]
    }
   ],
   "source": [
    "for i in li0:\n",
    "    print(i)"
   ]
  },
  {
   "cell_type": "code",
   "execution_count": 106,
   "id": "1e1feecb",
   "metadata": {},
   "outputs": [
    {
     "name": "stdout",
     "output_type": "stream",
     "text": [
      "True\n",
      "True\n",
      "True\n",
      "True\n",
      "True\n",
      "True\n",
      "True\n",
      "True\n",
      "True\n",
      "True\n",
      "True\n",
      "False\n",
      "False\n",
      "False\n",
      "False\n",
      "False\n",
      "False\n",
      "False\n",
      "False\n"
     ]
    }
   ],
   "source": [
    "for i in li0:\n",
    "    print(i>5)"
   ]
  },
  {
   "cell_type": "code",
   "execution_count": 113,
   "id": "1db15dd8",
   "metadata": {},
   "outputs": [
    {
     "name": "stdout",
     "output_type": "stream",
     "text": [
      "[56, 45, 9, 8, 5, 3, 1]\n"
     ]
    }
   ],
   "source": [
    "# reverse the list\n",
    "li25=[1,3,5,8,9,56,45]\n",
    "li25.sort(reverse=True)\n",
    "print(li25)"
   ]
  },
  {
   "cell_type": "code",
   "execution_count": 114,
   "id": "e023a12e",
   "metadata": {},
   "outputs": [
    {
     "name": "stdout",
     "output_type": "stream",
     "text": [
      "None\n"
     ]
    }
   ],
   "source": [
    "\n",
    "c=li25.clear()\n",
    "print(c)"
   ]
  },
  {
   "cell_type": "markdown",
   "id": "fd4cdd5d",
   "metadata": {},
   "source": [
    "### Python inbuilt functions like sum,max,min,avg"
   ]
  },
  {
   "cell_type": "code",
   "execution_count": 116,
   "id": "9a37e9f8",
   "metadata": {},
   "outputs": [
    {
     "name": "stdout",
     "output_type": "stream",
     "text": [
      "Sum of list 520\n"
     ]
    }
   ],
   "source": [
    "print(\"Sum of list:\",sum(li0))"
   ]
  },
  {
   "cell_type": "code",
   "execution_count": 117,
   "id": "db3a600b",
   "metadata": {},
   "outputs": [
    {
     "name": "stdout",
     "output_type": "stream",
     "text": [
      "Max of list: 99\n",
      "Min of list: 1\n"
     ]
    }
   ],
   "source": [
    "print(\"Max of list:\",max(li0))\n",
    "print(\"Min of list:\",min(li0))\n"
   ]
  },
  {
   "cell_type": "code",
   "execution_count": 118,
   "id": "08979302",
   "metadata": {},
   "outputs": [
    {
     "name": "stdout",
     "output_type": "stream",
     "text": [
      "['dhoni', 'watson', 'bravo']\n"
     ]
    }
   ],
   "source": [
    "mylist=['dhoni','watson','bravo']\n",
    "new_list=mylist.copy()\n",
    "print(new_list)"
   ]
  },
  {
   "cell_type": "code",
   "execution_count": null,
   "id": "603127f1",
   "metadata": {},
   "outputs": [],
   "source": []
  }
 ],
 "metadata": {
  "kernelspec": {
   "display_name": "Python 3 (ipykernel)",
   "language": "python",
   "name": "python3"
  },
  "language_info": {
   "codemirror_mode": {
    "name": "ipython",
    "version": 3
   },
   "file_extension": ".py",
   "mimetype": "text/x-python",
   "name": "python",
   "nbconvert_exporter": "python",
   "pygments_lexer": "ipython3",
   "version": "3.11.7"
  }
 },
 "nbformat": 4,
 "nbformat_minor": 5
}
